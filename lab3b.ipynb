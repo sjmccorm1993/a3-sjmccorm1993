{
 "cells": [
  {
   "cell_type": "markdown",
   "metadata": {},
   "source": [
    "# Lab 3b\n",
    "\n",
    "## Contents\n",
    "* [Part 1: Cross validation for parameter tuning, model selection, and feature selection](#Part-1:-Cross-validation-for-parameter-tuning,-model-selection,-and-feature-selection)\n",
    "* [Part 2: Efficiently searching for optimal tuning parameters](#Part-2:-Efficiently-searching-for-optimal-tuning-parameters)\n",
    "* [Part 3: Evaluating a classification model](#Part-3:-Evaluating-a-classification-model)\n",
    "***"
   ]
  },
  {
   "cell_type": "markdown",
   "metadata": {},
   "source": [
    "## Part 1: Cross-validation for parameter tuning, model selection, and feature selection\n"
   ]
  },
  {
   "cell_type": "markdown",
   "metadata": {},
   "source": [
    "### Agenda\n",
    "\n",
    "- What is the drawback of using the **train/test split** procedure for model evaluation?\n",
    "- How does **K-fold cross-validation** overcome this limitation?\n",
    "- How can cross-validation be used for selecting **tuning parameters**, choosing between **models**, and selecting **features**?\n",
    "- What are some possible **improvements** to cross-validation?"
   ]
  },
  {
   "cell_type": "markdown",
   "metadata": {},
   "source": [
    "### 1.1 Review of model evaluation procedures"
   ]
  },
  {
   "cell_type": "markdown",
   "metadata": {},
   "source": [
    "**Motivation:** Need a principled way to choose between machine learning approaches (models, model parameters, features)\n",
    "\n",
    "- Goal is to estimate likely performance of a model on **out-of-sample data**\n",
    "\n",
    "**Initial idea:** Train and test on the same data\n",
    "\n",
    "- But, maximizing **training accuracy** rewards overly complex models which **overfit** the training data\n",
    "\n",
    "**Alternative idea:** Train/test split\n",
    "\n",
    "- Split the dataset into two pieces, so that the model can be trained and tested on **different data**\n",
    "- **Testing accuracy** is a better estimate than training accuracy of out-of-sample performance\n",
    "- But, it provides a **high variance** estimate since changing which observations happen to be in the testing set can significantly change testing accuracy"
   ]
  },
  {
   "cell_type": "code",
   "execution_count": 1,
   "metadata": {
    "collapsed": true
   },
   "outputs": [],
   "source": [
    "# import required modules\n",
    "from sklearn.datasets import load_iris\n",
    "from sklearn.model_selection import train_test_split\n",
    "from sklearn.neighbors import KNeighborsClassifier\n",
    "from sklearn import metrics"
   ]
  },
  {
   "cell_type": "markdown",
   "metadata": {},
   "source": [
    "Recall our iris dataset."
   ]
  },
  {
   "cell_type": "code",
   "execution_count": 2,
   "metadata": {
    "collapsed": true
   },
   "outputs": [],
   "source": [
    "# read in the iris data\n",
    "iris = load_iris()\n",
    "\n",
    "# create X (features) and y (response)\n",
    "X = iris.data\n",
    "y = iris.target"
   ]
  },
  {
   "cell_type": "markdown",
   "metadata": {},
   "source": [
    "Below we train and test the KNN (k=5) model using 100 different train/test splits."
   ]
  },
  {
   "cell_type": "code",
   "execution_count": 4,
   "metadata": {},
   "outputs": [
    {
     "name": "stdout",
     "output_type": "stream",
     "text": [
      "best [k, score] = [2, 1], mean score =  0.96049382716\n"
     ]
    }
   ],
   "source": [
    "# use train/test split with different random_state values\n",
    "# this demonstrates that the accuracy depends on which samples are used to train and test\n",
    "import numpy as np\n",
    "scores = []\n",
    "for rs in range(1,100):\n",
    "    X_train, X_test, y_train, y_test = train_test_split(X, y, test_size=.3, random_state=rs)\n",
    "\n",
    "    # check classification accuracy of KNN with K=5\n",
    "    knn = KNeighborsClassifier(n_neighbors=5)\n",
    "    knn.fit(X_train, y_train)\n",
    "    y_pred = knn.predict(X_test)\n",
    "    scores.append(metrics.accuracy_score(y_test, y_pred))\n",
    "scores = np.array(scores)    \n",
    "i = np.argmax(scores)\n",
    "print('best [k, score] = [%g, %g], mean score = '%(i+1, scores[i]), scores.mean())"
   ]
  },
  {
   "cell_type": "markdown",
   "metadata": {},
   "source": [
    "__Task 1:__ Plot a histogram of the measured accuracies."
   ]
  },
  {
   "cell_type": "code",
   "execution_count": 8,
   "metadata": {},
   "outputs": [
    {
     "data": {
      "text/plain": [
       "(array([  8.,   0.,  14.,   0.,   0.,  36.,   0.,  30.,   0.,  11.]),\n",
       " array([ 0.91111111,  0.92      ,  0.92888889,  0.93777778,  0.94666667,\n",
       "         0.95555556,  0.96444444,  0.97333333,  0.98222222,  0.99111111,  1.        ]),\n",
       " <a list of 10 Patch objects>)"
      ]
     },
     "execution_count": 8,
     "metadata": {},
     "output_type": "execute_result"
    },
    {
     "data": {
      "image/png": "[encoded data removed]",
      "text/plain": [
       "<matplotlib.figure.Figure at 0x116a85f28>"
      ]
     },
     "metadata": {},
     "output_type": "display_data"
    }
   ],
   "source": [
    "# YOUR CODE HERE\n",
    "import matplotlib.pyplot as plt\n",
    "%matplotlib inline\n",
    "\n",
    "plt.hist(scores)"
   ]
  },
  {
   "cell_type": "markdown",
   "metadata": {},
   "source": [
    "The histogram above clearly shows that test accuracy depends on the train/test split used."
   ]
  },
  {
   "cell_type": "markdown",
   "metadata": {},
   "source": [
    "### K-fold cross-validation"
   ]
  },
  {
   "cell_type": "markdown",
   "metadata": {},
   "source": [
    "Averaging the results of a number of train/test splits provides a better estimate of a models out-of-sample performance.  K-fold cross-validation provides a recipe for doing this.\n",
    "\n",
    "**Algorithm:**\n",
    "1. Split the dataset into K **equal** partitions (or \"folds\").\n",
    "2. Use fold 1 as the **testing set** and the union of the other folds as the **training set**.\n",
    "3. Calculate **testing accuracy**.\n",
    "4. Repeat steps 2 and 3 K times, using a **different fold** as the testing set each time.\n",
    "5. Use the **average testing accuracy** as the estimate of out-of-sample accuracy."
   ]
  },
  {
   "cell_type": "markdown",
   "metadata": {},
   "source": [
    "Diagram of **5-fold cross-validation:**\n",
    "\n",
    "![5-fold cross-validation](images/07_cross_validation_diagram.png)\n",
    "\n",
    "`sklean` provides a variety of tools for doing k-fold cross-validation.  Below is an example of `model_selection.Kfold`.  Given the number of splits (i.e. folds) and a feature matrix, this function returns a list of train and test row indices to use with each run of training and testing. "
   ]
  },
  {
   "cell_type": "code",
   "execution_count": 9,
   "metadata": {},
   "outputs": [
    {
     "name": "stdout",
     "output_type": "stream",
     "text": [
      "Iteration                   Training set observations                   Testing set observations\n",
      "    1     [3, 4, 5, 6, 7, 8, 9, 10, 11, 12, 13, 14]         [0, 1, 2]        \n",
      "    2     [0, 1, 2, 6, 7, 8, 9, 10, 11, 12, 13, 14]         [3, 4, 5]        \n",
      "    3     [0, 1, 2, 3, 4, 5, 9, 10, 11, 12, 13, 14]         [6, 7, 8]        \n",
      "    4     [0, 1, 2, 3, 4, 5, 6, 7, 8, 12, 13, 14]        [9, 10, 11]       \n",
      "    5     [0, 1, 2, 3, 4, 5, 6, 7, 8, 9, 10, 11]       [12, 13, 14]       \n"
     ]
    }
   ],
   "source": [
    "# simulate splitting a dataset of 15 observations into 5 folds\n",
    "from sklearn.model_selection import KFold\n",
    "kf = KFold(n_splits=5, shuffle=False)\n",
    "splits = kf.split(X[:15])\n",
    "\n",
    "# print the indices of each training and testing set\n",
    "print('{} {:^61} {}'.format('Iteration', 'Training set observations', 'Testing set observations'))\n",
    "for iteration, data in enumerate(splits, start=1):\n",
    "    print('{!r:^9} {} {!r:^25}'.format(iteration, list(data[0]), list(data[1])))"
   ]
  },
  {
   "cell_type": "markdown",
   "metadata": {},
   "source": [
    "In the `Kfold` example above,\n",
    "- The feature dataset contains **15 observations** (i.e. rows, numbered 0 through 14)\n",
    "- `n_splits=5` corresponds to 5-fold cross-validation\n",
    "- five different sets of train/test indices are produced, appropriate for **5 iterations**\n",
    "- For each iteration, every observation is either in the training set or the testing set, **but not both**\n",
    "- Every observation is in the testing set **exactly once**"
   ]
  },
  {
   "cell_type": "markdown",
   "metadata": {},
   "source": [
    "### 1.3 Comparing cross-validation to train/test split"
   ]
  },
  {
   "cell_type": "markdown",
   "metadata": {},
   "source": [
    "Advantages of **cross-validation:**\n",
    "\n",
    "- More accurate estimate of out-of-sample accuracy\n",
    " - However order of rows and the value of k affects outcome, i.e. still setup dependent\n",
    "- More \"efficient\" use of data (every observation is used for both training and testing)\n",
    "\n",
    "Advantages of **train/test split:**\n",
    "\n",
    "- Runs K times faster than K-fold cross-validation\n",
    "- Simpler to examine the detailed results of the testing process"
   ]
  },
  {
   "cell_type": "markdown",
   "metadata": {},
   "source": [
    "### 1.4 Cross-validation recommendations"
   ]
  },
  {
   "cell_type": "markdown",
   "metadata": {},
   "source": [
    "1. K can be any number, but **K=10** is often recommended (YMMV)\n",
    "2. For classification problems, [stratified sampling](https://en.wikipedia.org/wiki/Stratified_sampling) is recommended for creating the folds\n",
    "    - Each response class should be represented with equal proportions in each of the K folds\n",
    "    - scikit-learn's `cross_val_score` function, which we discuss below, does this by default"
   ]
  },
  {
   "cell_type": "markdown",
   "metadata": {},
   "source": [
    "### 1.5 Cross-validation example: parameter tuning"
   ]
  },
  {
   "cell_type": "markdown",
   "metadata": {},
   "source": [
    "**Goal:** Select the best tuning parameters (aka \"hyperparameters\") for KNN on the iris dataset using cross-validation\n",
    "\n",
    "The code below finds mean accuracy for a set of parameters using cross-validation using `model_selection.cross_val_score` "
   ]
  },
  {
   "cell_type": "code",
   "execution_count": 10,
   "metadata": {
    "collapsed": true
   },
   "outputs": [],
   "source": [
    "from sklearn.model_selection import cross_val_score\n",
    "import numpy as np"
   ]
  },
  {
   "cell_type": "code",
   "execution_count": 11,
   "metadata": {},
   "outputs": [
    {
     "name": "stdout",
     "output_type": "stream",
     "text": [
      "[ 1.          0.93333333  1.          1.          0.86666667  0.93333333\n",
      "  0.93333333  1.          1.          1.        ]\n"
     ]
    }
   ],
   "source": [
    "# 10-fold cross-validation with K=5 for KNN (the n_neighbors parameter)\n",
    "knn = KNeighborsClassifier(n_neighbors=5)\n",
    "scores = cross_val_score(knn, X, y, cv=10, scoring='accuracy')\n",
    "print(scores)"
   ]
  },
  {
   "cell_type": "code",
   "execution_count": 12,
   "metadata": {},
   "outputs": [
    {
     "name": "stdout",
     "output_type": "stream",
     "text": [
      "0.966666666667\n"
     ]
    }
   ],
   "source": [
    "# use average accuracy as an estimate of out-of-sample accuracy\n",
    "print(scores.mean())"
   ]
  },
  {
   "cell_type": "code",
   "execution_count": 13,
   "metadata": {},
   "outputs": [
    {
     "name": "stdout",
     "output_type": "stream",
     "text": [
      "best [k, score] = [13, 0.98]\n"
     ]
    }
   ],
   "source": [
    "# search for an optimal value of K for KNN\n",
    "k_range = list(range(1, 31))\n",
    "k_scores = []\n",
    "for k in k_range:\n",
    "    knn = KNeighborsClassifier(n_neighbors=k)\n",
    "    scores = cross_val_score(knn, X, y, cv=10, scoring='accuracy')\n",
    "    k_scores.append(scores.mean())\n",
    "i = np.argmax(np.array(k_scores))\n",
    "print('best [k, score] = [%g, %g]'%(k_range[i], k_scores[i]))"
   ]
  },
  {
   "cell_type": "code",
   "execution_count": 14,
   "metadata": {},
   "outputs": [
    {
     "data": {
      "text/plain": [
       "<matplotlib.text.Text at 0x119f7a710>"
      ]
     },
     "execution_count": 14,
     "metadata": {},
     "output_type": "execute_result"
    },
    {
     "data": {
      "image/png": "[encoded data removed]",
      "text/plain": [
       "<matplotlib.figure.Figure at 0x115bd09b0>"
      ]
     },
     "metadata": {},
     "output_type": "display_data"
    }
   ],
   "source": [
    "import matplotlib.pyplot as plt\n",
    "%matplotlib inline\n",
    "\n",
    "# plot the value of K for KNN (x-axis) versus the cross-validated accuracy (y-axis)\n",
    "plt.plot(k_range, k_scores)\n",
    "plt.xlabel('Value of K for KNN')\n",
    "plt.ylabel('Cross-Validated Accuracy')"
   ]
  },
  {
   "cell_type": "markdown",
   "metadata": {},
   "source": [
    "### 1.6 Cross-validation example: model selection"
   ]
  },
  {
   "cell_type": "markdown",
   "metadata": {},
   "source": [
    "**Goal:** Compare the best KNN model with Logistic Regression classifier on the iris dataset"
   ]
  },
  {
   "cell_type": "code",
   "execution_count": null,
   "metadata": {
    "collapsed": true
   },
   "outputs": [],
   "source": [
    "# 10-fold cross-validation with the best KNN model\n",
    "knn = KNeighborsClassifier(n_neighbors=13)\n",
    "print(cross_val_score(knn, X, y, cv=10, scoring='accuracy').mean())"
   ]
  },
  {
   "cell_type": "markdown",
   "metadata": {},
   "source": [
    "__Task 2:__ Print the mean 10-fold cross validation score of the default Logistic Regression classifier model applied to the iris dataset.  Include a comment as to which model you would select."
   ]
  },
  {
   "cell_type": "code",
   "execution_count": 15,
   "metadata": {},
   "outputs": [
    {
     "name": "stdout",
     "output_type": "stream",
     "text": [
      "0.953333333333\n"
     ]
    }
   ],
   "source": [
    "# 10-fold cross-validation with logistic regression\n",
    "from sklearn.linear_model import LogisticRegression\n",
    "logreg = LogisticRegression()\n",
    "print(cross_val_score(logreg, X, y, cv=10, scoring='accuracy').mean())"
   ]
  },
  {
   "cell_type": "markdown",
   "metadata": {},
   "source": [
    "### 1.7 Cross-validation Summary"
   ]
  },
  {
   "cell_type": "markdown",
   "metadata": {},
   "source": [
    "** Steps for cross-validation: **\n",
    "- Dataset is split into K \"folds\" of **equal size**\n",
    "- Each fold acts as the **testing set** 1 time, and acts as the **training set** K-1 times\n",
    "- **Average testing performance** is used as the estimate of out-of-sample performance\n",
    "\n",
    "** Benefits of cross-validation: **\n",
    "- More **reliable** estimate of out-of-sample performance than train/test split\n",
    "- Can be used for selecting **tuning parameters**, choosing between **models**, and selecting **features**\n",
    "\n",
    "** Drawbacks of cross-validation: **\n",
    "\n",
    "- Can be computationally **expensive**\n",
    "\n",
    "### 1.8 Cross-validation Improvements\n",
    "\n",
    "**Repeated cross-validation**\n",
    "- Repeat cross-validation multiple times (with **different random splits** of the data) and average the results\n",
    "- More reliable estimate of out-of-sample performance by **reducing the variance** associated with a single trial of cross-validation\n",
    "\n",
    "**Creating a hold-out set**\n",
    "- \"Hold out\" a portion of the data **before** beginning the model building process\n",
    "- Locate the best model using cross-validation on the remaining data, and test it **using the hold-out set**\n",
    "- More honest estimate of out-of-sample performance since hold-out set is **truly out-of-sample**, but unless the hold-out set is large enough may not be accurate.\n",
    "\n",
    "**Feature engineering and selection within cross-validation iterations**\n",
    "\n",
    "- Normally, feature engineering and selection occurs **before** cross-validation\n",
    "- Instead, perform all feature engineering and selection **within each cross-validation iteration**\n",
    "- More reliable estimate of out-of-sample performance since it **better mimics** the application of the model to out-of-sample data"
   ]
  },
  {
   "cell_type": "markdown",
   "metadata": {},
   "source": [
    "### 1.9 Resources\n",
    "\n",
    "- scikit-learn documentation: [Cross-validation](http://scikit-learn.org/stable/modules/cross_validation.html), [Model evaluation](http://scikit-learn.org/stable/modules/model_evaluation.html)\n",
    "- Section 5.1 of [An Introduction to Statistical Learning](http://www-bcf.usc.edu/~gareth/ISL/) (11 pages) and related videos: [K-fold and leave-one-out cross-validation](https://www.youtube.com/watch?v=nZAM5OXrktY) (14 minutes), [Cross-validation the right and wrong ways](https://www.youtube.com/watch?v=S06JpVoNaA0) (10 minutes)\n",
    "- Scott Fortmann-Roe: [Accurately Measuring Model Prediction Error](http://scott.fortmann-roe.com/docs/MeasuringError.html)\n",
    "- Machine Learning Mastery: [An Introduction to Feature Selection](http://machinelearningmastery.com/an-introduction-to-feature-selection/)\n",
    "- Harvard CS109: [Cross-Validation: The Right and Wrong Way](https://github.com/cs109/content/blob/master/lec_10_cross_val.ipynb)\n",
    "- Journal of Cheminformatics: [Cross-validation pitfalls when selecting and assessing regression and classification models](http://www.jcheminf.com/content/pdf/1758-2946-6-10.pdf)"
   ]
  },
  {
   "cell_type": "markdown",
   "metadata": {},
   "source": [
    "***\n",
    "## Part 2: Efficiently searching for hyperparameters\n"
   ]
  },
  {
   "cell_type": "markdown",
   "metadata": {},
   "source": [
    "### Agenda\n",
    "\n",
    "- How can K-fold cross-validation be used to search for **good classifier parameters**?\n",
    "- How can this process be made **more efficient**?\n",
    "- How do you search for **multiple tuning parameters** at once?\n",
    "- What do you do with those tuning parameters before making **real predictions**?\n",
    "- How can the **computational expense** of this process be reduced?\n",
    "\n",
    "Searching for better sets of parameters using cross validation is such a common task that [sklearn.model_selection](http://scikit-learn.org/stable/modules/classes.html#hyper-parameter-optimizers) provides a number of functions for automating this task.  "
   ]
  },
  {
   "cell_type": "markdown",
   "metadata": {},
   "source": [
    "### Parameter tuning using `GridSearchCV`"
   ]
  },
  {
   "cell_type": "markdown",
   "metadata": {},
   "source": [
    "The [GridSearchCV](http://scikit-learn.org/stable/modules/generated/sklearn.model_selection.GridSearchCV.html) function allows you to define a **grid of parameters** that will exhaustively be **searched** using K-fold cross-validation in order to find the best set of parameters.  Below is an example with a single set of **grid parameters**."
   ]
  },
  {
   "cell_type": "code",
   "execution_count": 41,
   "metadata": {
    "collapsed": true
   },
   "outputs": [],
   "source": [
    "from sklearn.model_selection import GridSearchCV\n",
    "# create X (features) and y (response)\n",
    "X = iris.data\n",
    "y = iris.target"
   ]
  },
  {
   "cell_type": "code",
   "execution_count": 42,
   "metadata": {},
   "outputs": [
    {
     "name": "stdout",
     "output_type": "stream",
     "text": [
      "{'n_neighbors': [1, 2, 3, 4, 5, 6, 7, 8, 9, 10, 11, 12, 13, 14, 15, 16, 17, 18, 19, 20, 21, 22, 23, 24, 25, 26, 27, 28, 29, 30]}\n"
     ]
    }
   ],
   "source": [
    "# define the parameter values that should be searched\n",
    "k_range = list(range(1, 31))\n",
    "# create a parameter grid: map the parameter names to the values that should be searched\n",
    "param_grid = dict(n_neighbors=k_range)\n",
    "print(param_grid)"
   ]
  },
  {
   "cell_type": "code",
   "execution_count": 43,
   "metadata": {
    "collapsed": true
   },
   "outputs": [],
   "source": [
    "# instantiate the grid\n",
    "grid = GridSearchCV(knn, param_grid, cv=10, scoring='accuracy')"
   ]
  },
  {
   "cell_type": "markdown",
   "metadata": {},
   "source": [
    "- You can set **`n_jobs = -1`** to run computations in parallel (if supported by your computer and OS)"
   ]
  },
  {
   "cell_type": "code",
   "execution_count": 44,
   "metadata": {},
   "outputs": [
    {
     "data": {
      "text/plain": [
       "GridSearchCV(cv=10, error_score='raise',\n",
       "       estimator=KNeighborsClassifier(algorithm='auto', leaf_size=30, metric='minkowski',\n",
       "           metric_params=None, n_jobs=1, n_neighbors=13, p=2,\n",
       "           weights='uniform'),\n",
       "       fit_params={}, iid=True, n_jobs=1,\n",
       "       param_grid={'n_neighbors': [1, 2, 3, 4, 5, 6, 7, 8, 9, 10, 11, 12, 13, 14, 15, 16, 17, 18, 19, 20, 21, 22, 23, 24, 25, 26, 27, 28, 29, 30]},\n",
       "       pre_dispatch='2*n_jobs', refit=True, return_train_score=True,\n",
       "       scoring='accuracy', verbose=0)"
      ]
     },
     "execution_count": 44,
     "metadata": {},
     "output_type": "execute_result"
    }
   ],
   "source": [
    "# Run the grid search on the data\n",
    "grid.fit(X, y)"
   ]
  },
  {
   "cell_type": "code",
   "execution_count": 20,
   "metadata": {},
   "outputs": [
    {
     "data": {
      "text/plain": [
       "{'mean_fit_time': array([ 0.00041754,  0.00034301,  0.00032818,  0.00065224,  0.00037169,\n",
       "         0.00033414,  0.00028858,  0.00027833,  0.00028088,  0.00028057,\n",
       "         0.00027852,  0.00027752,  0.00027785,  0.00031524,  0.00029161,\n",
       "         0.00028808,  0.00027697,  0.0002768 ,  0.00027573,  0.00027609,\n",
       "         0.00028012,  0.00028164,  0.00028176,  0.00028207,  0.00029092,\n",
       "         0.00028281,  0.00028226,  0.0002835 ,  0.00029168,  0.0002923 ]),\n",
       " 'mean_score_time': array([ 0.0006578 ,  0.00064616,  0.00059409,  0.00109591,  0.00060136,\n",
       "         0.00054569,  0.00049553,  0.00048804,  0.00049436,  0.0004941 ,\n",
       "         0.00049782,  0.00049317,  0.00049863,  0.00053949,  0.00051432,\n",
       "         0.00050416,  0.00049858,  0.00050147,  0.00050132,  0.00050058,\n",
       "         0.00051172,  0.00050905,  0.0005192 ,  0.00051994,  0.0005388 ,\n",
       "         0.0005192 ,  0.00052011,  0.00053413,  0.00053144,  0.00055201]),\n",
       " 'mean_test_score': array([ 0.96      ,  0.95333333,  0.96666667,  0.96666667,  0.96666667,\n",
       "         0.96666667,  0.96666667,  0.96666667,  0.97333333,  0.96666667,\n",
       "         0.96666667,  0.97333333,  0.98      ,  0.97333333,  0.97333333,\n",
       "         0.97333333,  0.97333333,  0.98      ,  0.97333333,  0.98      ,\n",
       "         0.96666667,  0.96666667,  0.97333333,  0.96      ,  0.96666667,\n",
       "         0.96      ,  0.96666667,  0.95333333,  0.95333333,  0.95333333]),\n",
       " 'mean_train_score': array([ 1.        ,  0.97851852,  0.96074074,  0.9637037 ,  0.96888889,\n",
       "         0.97259259,  0.97333333,  0.97925926,  0.97925926,  0.9762963 ,\n",
       "         0.98      ,  0.97851852,  0.98      ,  0.97925926,  0.97925926,\n",
       "         0.97777778,  0.97777778,  0.97777778,  0.97777778,  0.97407407,\n",
       "         0.97555556,  0.97111111,  0.97333333,  0.97037037,  0.96962963,\n",
       "         0.96      ,  0.96148148,  0.95481481,  0.95925926,  0.95259259]),\n",
       " 'param_n_neighbors': masked_array(data = [1 2 3 4 5 6 7 8 9 10 11 12 13 14 15 16 17 18 19 20 21 22 23 24 25 26 27 28\n",
       "  29 30],\n",
       "              mask = [False False False False False False False False False False False False\n",
       "  False False False False False False False False False False False False\n",
       "  False False False False False False],\n",
       "        fill_value = ?),\n",
       " 'params': ({'n_neighbors': 1},\n",
       "  {'n_neighbors': 2},\n",
       "  {'n_neighbors': 3},\n",
       "  {'n_neighbors': 4},\n",
       "  {'n_neighbors': 5},\n",
       "  {'n_neighbors': 6},\n",
       "  {'n_neighbors': 7},\n",
       "  {'n_neighbors': 8},\n",
       "  {'n_neighbors': 9},\n",
       "  {'n_neighbors': 10},\n",
       "  {'n_neighbors': 11},\n",
       "  {'n_neighbors': 12},\n",
       "  {'n_neighbors': 13},\n",
       "  {'n_neighbors': 14},\n",
       "  {'n_neighbors': 15},\n",
       "  {'n_neighbors': 16},\n",
       "  {'n_neighbors': 17},\n",
       "  {'n_neighbors': 18},\n",
       "  {'n_neighbors': 19},\n",
       "  {'n_neighbors': 20},\n",
       "  {'n_neighbors': 21},\n",
       "  {'n_neighbors': 22},\n",
       "  {'n_neighbors': 23},\n",
       "  {'n_neighbors': 24},\n",
       "  {'n_neighbors': 25},\n",
       "  {'n_neighbors': 26},\n",
       "  {'n_neighbors': 27},\n",
       "  {'n_neighbors': 28},\n",
       "  {'n_neighbors': 29},\n",
       "  {'n_neighbors': 30}),\n",
       " 'rank_test_score': array([24, 27, 12, 12, 12, 12, 12, 12,  4, 12, 12,  4,  1,  4,  4,  4,  4,\n",
       "         1,  4,  1, 12, 12,  4, 24, 12, 24, 12, 27, 27, 27], dtype=int32),\n",
       " 'split0_test_score': array([ 1.        ,  1.        ,  1.        ,  1.        ,  1.        ,\n",
       "         1.        ,  1.        ,  1.        ,  1.        ,  1.        ,\n",
       "         1.        ,  1.        ,  1.        ,  1.        ,  0.93333333,\n",
       "         1.        ,  0.93333333,  1.        ,  0.93333333,  1.        ,\n",
       "         0.93333333,  0.93333333,  0.93333333,  0.93333333,  0.93333333,\n",
       "         0.93333333,  0.93333333,  0.93333333,  0.93333333,  0.93333333]),\n",
       " 'split0_train_score': array([ 1.        ,  0.97037037,  0.95555556,  0.95555556,  0.96296296,\n",
       "         0.97037037,  0.96296296,  0.97037037,  0.97037037,  0.97037037,\n",
       "         0.97037037,  0.97037037,  0.97777778,  0.97037037,  0.97777778,\n",
       "         0.97037037,  0.97777778,  0.97777778,  0.97777778,  0.97777778,\n",
       "         0.97777778,  0.97777778,  0.97777778,  0.97037037,  0.97777778,\n",
       "         0.96296296,  0.96296296,  0.94814815,  0.95555556,  0.94814815]),\n",
       " 'split1_test_score': array([ 0.93333333,  0.93333333,  0.93333333,  0.93333333,  0.93333333,\n",
       "         0.93333333,  0.93333333,  0.93333333,  0.93333333,  0.93333333,\n",
       "         0.93333333,  0.93333333,  0.93333333,  0.93333333,  0.93333333,\n",
       "         0.93333333,  0.93333333,  0.93333333,  0.93333333,  0.93333333,\n",
       "         0.93333333,  0.93333333,  0.93333333,  0.93333333,  0.93333333,\n",
       "         0.93333333,  0.93333333,  0.93333333,  0.93333333,  0.93333333]),\n",
       " 'split1_train_score': array([ 1.        ,  0.98518519,  0.96296296,  0.96296296,  0.97037037,\n",
       "         0.97037037,  0.97777778,  0.98518519,  0.98518519,  0.98518519,\n",
       "         0.98518519,  0.99259259,  0.97777778,  0.97777778,  0.97777778,\n",
       "         0.98518519,  0.98518519,  0.98518519,  0.98518519,  0.98518519,\n",
       "         0.98518519,  0.98518519,  0.97037037,  0.97777778,  0.97777778,\n",
       "         0.98518519,  0.97777778,  0.97777778,  0.97777778,  0.95555556]),\n",
       " 'split2_test_score': array([ 1.,  1.,  1.,  1.,  1.,  1.,  1.,  1.,  1.,  1.,  1.,  1.,  1.,\n",
       "         1.,  1.,  1.,  1.,  1.,  1.,  1.,  1.,  1.,  1.,  1.,  1.,  1.,\n",
       "         1.,  1.,  1.,  1.]),\n",
       " 'split2_train_score': array([ 1.        ,  0.97777778,  0.95555556,  0.95555556,  0.96296296,\n",
       "         0.97037037,  0.97037037,  0.97777778,  0.97777778,  0.97777778,\n",
       "         0.98518519,  0.98518519,  0.97777778,  0.98518519,  0.97777778,\n",
       "         0.98518519,  0.97777778,  0.97777778,  0.97777778,  0.96296296,\n",
       "         0.97037037,  0.95555556,  0.96296296,  0.94814815,  0.94814815,\n",
       "         0.93333333,  0.94074074,  0.94814815,  0.95555556,  0.94814815]),\n",
       " 'split3_test_score': array([ 0.93333333,  0.93333333,  0.93333333,  0.93333333,  1.        ,\n",
       "         1.        ,  1.        ,  1.        ,  1.        ,  1.        ,\n",
       "         1.        ,  1.        ,  1.        ,  1.        ,  1.        ,\n",
       "         1.        ,  1.        ,  1.        ,  1.        ,  1.        ,\n",
       "         1.        ,  1.        ,  1.        ,  1.        ,  1.        ,\n",
       "         1.        ,  1.        ,  0.93333333,  0.93333333,  0.93333333]),\n",
       " 'split3_train_score': array([ 1.        ,  0.98518519,  0.96296296,  0.96296296,  0.97037037,\n",
       "         0.97777778,  0.97037037,  0.98518519,  0.98518519,  0.97777778,\n",
       "         0.97777778,  0.97777778,  0.97777778,  0.97777778,  0.97777778,\n",
       "         0.98518519,  0.97777778,  0.97777778,  0.97777778,  0.97777778,\n",
       "         0.97777778,  0.97777778,  0.97777778,  0.97777778,  0.97037037,\n",
       "         0.96296296,  0.97037037,  0.96296296,  0.97037037,  0.94814815]),\n",
       " 'split4_test_score': array([ 0.86666667,  0.86666667,  0.86666667,  0.86666667,  0.86666667,\n",
       "         0.86666667,  0.86666667,  1.        ,  1.        ,  1.        ,\n",
       "         1.        ,  1.        ,  1.        ,  1.        ,  1.        ,\n",
       "         1.        ,  1.        ,  1.        ,  1.        ,  1.        ,\n",
       "         0.93333333,  1.        ,  1.        ,  1.        ,  1.        ,\n",
       "         1.        ,  1.        ,  1.        ,  1.        ,  1.        ]),\n",
       " 'split4_train_score': array([ 1.        ,  0.97777778,  0.97777778,  0.97777778,  0.98518519,\n",
       "         0.98518519,  0.98518519,  0.97777778,  0.97777778,  0.97777778,\n",
       "         0.98518519,  0.97777778,  0.98518519,  0.97777778,  0.97777778,\n",
       "         0.97777778,  0.97777778,  0.97777778,  0.97777778,  0.97777778,\n",
       "         0.97777778,  0.97037037,  0.97777778,  0.97037037,  0.97037037,\n",
       "         0.95555556,  0.94814815,  0.94814815,  0.94814815,  0.94814815]),\n",
       " 'split5_test_score': array([ 1.        ,  1.        ,  1.        ,  1.        ,  0.93333333,\n",
       "         0.93333333,  0.93333333,  0.86666667,  0.93333333,  0.86666667,\n",
       "         0.86666667,  0.93333333,  0.93333333,  0.86666667,  0.93333333,\n",
       "         0.93333333,  0.93333333,  0.93333333,  0.93333333,  0.93333333,\n",
       "         0.93333333,  0.93333333,  0.93333333,  0.86666667,  0.93333333,\n",
       "         0.86666667,  0.86666667,  0.86666667,  0.86666667,  0.86666667]),\n",
       " 'split5_train_score': array([ 1.        ,  0.97037037,  0.95555556,  0.96296296,  0.96296296,\n",
       "         0.95555556,  0.97037037,  0.97037037,  0.97777778,  0.97037037,\n",
       "         0.98518519,  0.97777778,  0.98518519,  0.97777778,  0.97777778,\n",
       "         0.97777778,  0.98518519,  0.98518519,  0.97777778,  0.97777778,\n",
       "         0.97777778,  0.97777778,  0.97777778,  0.97777778,  0.97777778,\n",
       "         0.96296296,  0.97037037,  0.96296296,  0.96296296,  0.96296296]),\n",
       " 'split6_test_score': array([ 0.86666667,  0.86666667,  0.93333333,  0.93333333,  0.93333333,\n",
       "         0.93333333,  0.93333333,  0.93333333,  0.93333333,  0.93333333,\n",
       "         0.93333333,  0.93333333,  0.93333333,  0.93333333,  0.93333333,\n",
       "         0.93333333,  0.93333333,  0.93333333,  0.93333333,  0.93333333,\n",
       "         0.93333333,  0.93333333,  0.93333333,  0.93333333,  0.93333333,\n",
       "         0.93333333,  0.93333333,  0.93333333,  0.93333333,  0.93333333]),\n",
       " 'split6_train_score': array([ 1.        ,  0.98518519,  0.97037037,  0.97037037,  0.97777778,\n",
       "         0.98518519,  0.97777778,  0.99259259,  0.99259259,  0.98518519,\n",
       "         0.99259259,  0.98518519,  0.99259259,  0.99259259,  0.98518519,\n",
       "         0.98518519,  0.97777778,  0.98518519,  0.98518519,  0.98518519,\n",
       "         0.98518519,  0.97777778,  0.97777778,  0.97777778,  0.97777778,\n",
       "         0.96296296,  0.97037037,  0.95555556,  0.96296296,  0.96296296]),\n",
       " 'split7_test_score': array([ 1.        ,  0.93333333,  1.        ,  1.        ,  1.        ,\n",
       "         1.        ,  1.        ,  0.93333333,  0.93333333,  0.93333333,\n",
       "         0.93333333,  0.93333333,  1.        ,  1.        ,  1.        ,\n",
       "         0.93333333,  1.        ,  1.        ,  1.        ,  1.        ,\n",
       "         1.        ,  0.93333333,  1.        ,  0.93333333,  0.93333333,\n",
       "         0.93333333,  1.        ,  0.93333333,  0.93333333,  0.93333333]),\n",
       " 'split7_train_score': array([ 1.        ,  0.97777778,  0.95555556,  0.96296296,  0.96296296,\n",
       "         0.97037037,  0.97037037,  0.97777778,  0.97037037,  0.97777778,\n",
       "         0.97777778,  0.97037037,  0.97037037,  0.97777778,  0.97777778,\n",
       "         0.97037037,  0.97777778,  0.97777778,  0.97777778,  0.97777778,\n",
       "         0.97777778,  0.97037037,  0.97777778,  0.97777778,  0.97777778,\n",
       "         0.97037037,  0.97037037,  0.96296296,  0.96296296,  0.95555556]),\n",
       " 'split8_test_score': array([ 1.,  1.,  1.,  1.,  1.,  1.,  1.,  1.,  1.,  1.,  1.,  1.,  1.,\n",
       "         1.,  1.,  1.,  1.,  1.,  1.,  1.,  1.,  1.,  1.,  1.,  1.,  1.,\n",
       "         1.,  1.,  1.,  1.]),\n",
       " 'split8_train_score': array([ 1.        ,  0.97777778,  0.95555556,  0.95555556,  0.96296296,\n",
       "         0.97037037,  0.97037037,  0.97777778,  0.97777778,  0.97777778,\n",
       "         0.97777778,  0.98518519,  0.97777778,  0.98518519,  0.98518519,\n",
       "         0.97777778,  0.97777778,  0.97777778,  0.97777778,  0.97777778,\n",
       "         0.97777778,  0.97037037,  0.97777778,  0.97037037,  0.97037037,\n",
       "         0.96296296,  0.97037037,  0.94814815,  0.95555556,  0.95555556]),\n",
       " 'split9_test_score': array([ 1.,  1.,  1.,  1.,  1.,  1.,  1.,  1.,  1.,  1.,  1.,  1.,  1.,\n",
       "         1.,  1.,  1.,  1.,  1.,  1.,  1.,  1.,  1.,  1.,  1.,  1.,  1.,\n",
       "         1.,  1.,  1.,  1.]),\n",
       " 'split9_train_score': array([ 1.        ,  0.97777778,  0.95555556,  0.97037037,  0.97037037,\n",
       "         0.97037037,  0.97777778,  0.97777778,  0.97777778,  0.96296296,\n",
       "         0.96296296,  0.96296296,  0.97777778,  0.97037037,  0.97777778,\n",
       "         0.96296296,  0.96296296,  0.95555556,  0.96296296,  0.94074074,\n",
       "         0.94814815,  0.94814815,  0.95555556,  0.95555556,  0.94814815,\n",
       "         0.94074074,  0.93333333,  0.93333333,  0.94074074,  0.94074074]),\n",
       " 'std_fit_time': array([  1.54363392e-04,   1.57407008e-05,   2.67565244e-05,\n",
       "          2.13400160e-04,   1.22736717e-04,   8.58077211e-05,\n",
       "          1.83210988e-05,   2.36791783e-06,   8.59263338e-06,\n",
       "          4.20834119e-06,   2.46575994e-06,   1.01152436e-06,\n",
       "          1.16898066e-06,   7.55796523e-05,   1.25998975e-05,\n",
       "          2.57386190e-05,   2.33126560e-06,   1.58148994e-06,\n",
       "          1.37478859e-06,   1.34024327e-06,   5.59593344e-06,\n",
       "          1.05509582e-05,   2.84268542e-06,   4.01712312e-06,\n",
       "          9.74884212e-06,   2.30860108e-06,   1.62911609e-06,\n",
       "          4.48131805e-06,   1.90042790e-05,   3.26206806e-06]),\n",
       " 'std_score_time': array([  2.20541567e-04,   8.86223891e-05,   1.40422746e-04,\n",
       "          3.08142048e-04,   1.99742983e-04,   1.00470947e-04,\n",
       "          1.76781227e-05,   7.17319056e-06,   1.36275563e-05,\n",
       "          4.56893611e-06,   1.35046816e-05,   2.21421428e-06,\n",
       "          7.56895444e-06,   5.31653973e-05,   1.39281351e-05,\n",
       "          1.51905381e-05,   5.79489587e-06,   4.30086235e-06,\n",
       "          4.43746873e-06,   2.67241598e-06,   1.07129562e-05,\n",
       "          1.21469294e-05,   1.30922196e-05,   9.08797083e-06,\n",
       "          3.41863395e-05,   3.06449037e-06,   2.05718072e-06,\n",
       "          3.36997809e-05,   1.15223040e-05,   9.53259974e-06]),\n",
       " 'std_test_score': array([ 0.05333333,  0.05206833,  0.04472136,  0.04472136,  0.04472136,\n",
       "         0.04472136,  0.04472136,  0.04472136,  0.03265986,  0.04472136,\n",
       "         0.04472136,  0.03265986,  0.0305505 ,  0.04422166,  0.03265986,\n",
       "         0.03265986,  0.03265986,  0.0305505 ,  0.03265986,  0.0305505 ,\n",
       "         0.03333333,  0.03333333,  0.03265986,  0.04422166,  0.03333333,\n",
       "         0.04422166,  0.04472136,  0.04268749,  0.04268749,  0.04268749]),\n",
       " 'std_train_score': array([ 0.        ,  0.00518519,  0.00744435,  0.00698813,  0.00725775,\n",
       "         0.00814815,  0.00592593,  0.00645763,  0.00645763,  0.00645763,\n",
       "         0.00814815,  0.0084132 ,  0.00578537,  0.00645763,  0.00296296,\n",
       "         0.00740741,  0.00573775,  0.00811441,  0.00573775,  0.01250514,\n",
       "         0.00996565,  0.01070876,  0.0075541 ,  0.00993808,  0.01120944,\n",
       "         0.01373869,  0.0143635 ,  0.01168869,  0.01007516,  0.006789  ])}"
      ]
     },
     "execution_count": 20,
     "metadata": {},
     "output_type": "execute_result"
    }
   ],
   "source": [
    "# A complete record the cross validation search results is stored in\n",
    "# dictionary.  Here it is\n",
    "grid.cv_results_"
   ]
  },
  {
   "cell_type": "code",
   "execution_count": 45,
   "metadata": {},
   "outputs": [
    {
     "name": "stdout",
     "output_type": "stream",
     "text": [
      "{'n_neighbors': 1}\n",
      "0.96\n"
     ]
    }
   ],
   "source": [
    "# examine the first run\n",
    "print(grid.cv_results_['params'][0])\n",
    "print(grid.cv_results_['mean_test_score'][0])      "
   ]
  },
  {
   "cell_type": "markdown",
   "metadata": {},
   "source": [
    "__Task 3:__ Now that you've seen how to access some the values in cv_results, use them to create a plot of mean test scores and also determine the best set of parameters and its score."
   ]
  },
  {
   "cell_type": "code",
   "execution_count": 52,
   "metadata": {},
   "outputs": [
    {
     "name": "stdout",
     "output_type": "stream",
     "text": [
      "Value of k:  12\n",
      "Score:  0.98\n",
      "Value of k:  17\n",
      "Score:  0.98\n",
      "Value of k:  19\n",
      "Score:  0.98\n"
     ]
    },
    {
     "data": {
      "image/png": "[encoded data removed]",
      "text/plain": [
       "<matplotlib.figure.Figure at 0x11a96a2b0>"
      ]
     },
     "metadata": {},
     "output_type": "display_data"
    }
   ],
   "source": [
    "# Implement your solution using array of of the mean test scores, \n",
    "# called grid_mean_scores\n",
    "\n",
    "grid_mean_scores = grid.cv_results_['mean_test_score']\n",
    "\n",
    "plt.plot(grid_mean_scores)\n",
    "\n",
    "max_score = max(grid_mean_scores)\n",
    "\n",
    "for idx, score in enumerate(grid_mean_scores):\n",
    "    \n",
    "    if score == max_score:\n",
    "        print(\"Value of k: \", idx)\n",
    "        print(\"Score: \", score)\n",
    "\n",
    "# test cases, do not change!\n",
    "assert len(grid_mean_scores)==30\n",
    "assert isinstance(grid_mean_scores[0], np.float)\n"
   ]
  },
  {
   "cell_type": "code",
   "execution_count": 53,
   "metadata": {},
   "outputs": [
    {
     "name": "stdout",
     "output_type": "stream",
     "text": [
      "{'n_neighbors': 13}\n",
      "0.98\n",
      "KNeighborsClassifier(algorithm='auto', leaf_size=30, metric='minkowski',\n",
      "           metric_params=None, n_jobs=1, n_neighbors=13, p=2,\n",
      "           weights='uniform')\n"
     ]
    }
   ],
   "source": [
    "# Finding the set of parameter and associated model is such a common task, \n",
    "# it is also stored automatically\n",
    "print(grid.best_params_)\n",
    "print(grid.best_score_)\n",
    "print(grid.best_estimator_)"
   ]
  },
  {
   "cell_type": "markdown",
   "metadata": {},
   "source": [
    "### 2.4 Searching multiple parameters simultaneously"
   ]
  },
  {
   "cell_type": "markdown",
   "metadata": {},
   "source": [
    "- **Example:** tuning `max_depth` and `min_samples_leaf` for a `DecisionTreeClassifier`\n",
    "- Could tune parameters **independently**: change `max_depth` while leaving `min_samples_leaf` at its default value, and vice versa\n",
    "- But, best performance might be achieved when **neither parameter** is at its default value"
   ]
  },
  {
   "cell_type": "code",
   "execution_count": 54,
   "metadata": {
    "collapsed": true
   },
   "outputs": [],
   "source": [
    "# define the parameter values that should be searched\n",
    "k_range = list(range(1, 31))\n",
    "weight_options = ['uniform', 'distance']"
   ]
  },
  {
   "cell_type": "code",
   "execution_count": 55,
   "metadata": {},
   "outputs": [
    {
     "name": "stdout",
     "output_type": "stream",
     "text": [
      "{'n_neighbors': [1, 2, 3, 4, 5, 6, 7, 8, 9, 10, 11, 12, 13, 14, 15, 16, 17, 18, 19, 20, 21, 22, 23, 24, 25, 26, 27, 28, 29, 30], 'weights': ['uniform', 'distance']}\n"
     ]
    }
   ],
   "source": [
    "# create a parameter grid: map the parameter names to the values that should be searched\n",
    "param_grid = dict(n_neighbors=k_range, weights=weight_options)\n",
    "print(param_grid)"
   ]
  },
  {
   "cell_type": "code",
   "execution_count": 56,
   "metadata": {},
   "outputs": [
    {
     "data": {
      "text/plain": [
       "GridSearchCV(cv=10, error_score='raise',\n",
       "       estimator=KNeighborsClassifier(algorithm='auto', leaf_size=30, metric='minkowski',\n",
       "           metric_params=None, n_jobs=1, n_neighbors=13, p=2,\n",
       "           weights='uniform'),\n",
       "       fit_params={}, iid=True, n_jobs=1,\n",
       "       param_grid={'n_neighbors': [1, 2, 3, 4, 5, 6, 7, 8, 9, 10, 11, 12, 13, 14, 15, 16, 17, 18, 19, 20, 21, 22, 23, 24, 25, 26, 27, 28, 29, 30], 'weights': ['uniform', 'distance']},\n",
       "       pre_dispatch='2*n_jobs', refit=True, return_train_score=True,\n",
       "       scoring='accuracy', verbose=0)"
      ]
     },
     "execution_count": 56,
     "metadata": {},
     "output_type": "execute_result"
    }
   ],
   "source": [
    "# instantiate and fit the grid\n",
    "grid = GridSearchCV(knn, param_grid, cv=10, scoring='accuracy')\n",
    "grid.fit(X, y)"
   ]
  },
  {
   "cell_type": "code",
   "execution_count": 30,
   "metadata": {},
   "outputs": [
    {
     "data": {
      "text/plain": [
       "{'mean_fit_time': array([ 0.00039551,  0.00037632,  0.00034192,  0.00062742,  0.0003721 ,\n",
       "         0.00030832,  0.00028064,  0.00028882,  0.00027976,  0.00029042,\n",
       "         0.00032649,  0.00028231,  0.00027843,  0.0002857 ,  0.0003093 ,\n",
       "         0.00033607,  0.00027955,  0.00028105,  0.00027902,  0.00028434,\n",
       "         0.00028274,  0.00028384,  0.00028026,  0.0002795 ,  0.00027974,\n",
       "         0.00028381,  0.00028214,  0.00028324,  0.00028038,  0.0002804 ,\n",
       "         0.00028217,  0.00028226,  0.00028524,  0.00029233,  0.00029371,\n",
       "         0.00028236,  0.00028334,  0.00028305,  0.00028391,  0.00029297,\n",
       "         0.00039508,  0.00040758,  0.0003787 ,  0.0003778 ,  0.00036666,\n",
       "         0.00035651,  0.00028694,  0.00035415,  0.00031667,  0.00032063,\n",
       "         0.00028551,  0.00028806,  0.0002852 ,  0.0002866 ,  0.00030935,\n",
       "         0.00028701,  0.00028217,  0.00028305,  0.00028317,  0.00028627]),\n",
       " 'mean_score_time': array([ 0.00063286,  0.00061998,  0.00057681,  0.00116179,  0.0006464 ,\n",
       "         0.00050688,  0.00048435,  0.00050614,  0.00048506,  0.00052986,\n",
       "         0.00055599,  0.00052075,  0.00048633,  0.00051844,  0.00053754,\n",
       "         0.00066097,  0.00049512,  0.00051842,  0.00049469,  0.00053582,\n",
       "         0.00050585,  0.00052631,  0.0004998 ,  0.00052493,  0.00050108,\n",
       "         0.00052726,  0.000506  ,  0.00053272,  0.00050814,  0.00052941,\n",
       "         0.00050738,  0.00053239,  0.00052054,  0.00055873,  0.00053205,\n",
       "         0.00053806,  0.00051148,  0.00054173,  0.00051317,  0.00055416,\n",
       "         0.00075243,  0.00082846,  0.00064483,  0.00079019,  0.0007232 ,\n",
       "         0.0007035 ,  0.00058577,  0.0006422 ,  0.00062232,  0.0006212 ,\n",
       "         0.00053353,  0.00056355,  0.00054512,  0.0005533 ,  0.00057518,\n",
       "         0.00056245,  0.00054109,  0.00055509,  0.00053058,  0.00056062]),\n",
       " 'mean_test_score': array([ 0.96      ,  0.96      ,  0.95333333,  0.96      ,  0.96666667,\n",
       "         0.96666667,  0.96666667,  0.96666667,  0.96666667,  0.96666667,\n",
       "         0.96666667,  0.96666667,  0.96666667,  0.96666667,  0.96666667,\n",
       "         0.96666667,  0.97333333,  0.97333333,  0.96666667,  0.97333333,\n",
       "         0.96666667,  0.97333333,  0.97333333,  0.97333333,  0.98      ,\n",
       "         0.97333333,  0.97333333,  0.97333333,  0.97333333,  0.98      ,\n",
       "         0.97333333,  0.97333333,  0.97333333,  0.98      ,  0.98      ,\n",
       "         0.97333333,  0.97333333,  0.98      ,  0.98      ,  0.96666667,\n",
       "         0.96666667,  0.96666667,  0.96666667,  0.96666667,  0.97333333,\n",
       "         0.97333333,  0.96      ,  0.97333333,  0.96666667,  0.97333333,\n",
       "         0.96      ,  0.96666667,  0.96666667,  0.98      ,  0.95333333,\n",
       "         0.97333333,  0.95333333,  0.97333333,  0.95333333,  0.96666667]),\n",
       " 'mean_train_score': array([ 1.        ,  1.        ,  0.97851852,  1.        ,  0.96074074,\n",
       "         1.        ,  0.9637037 ,  1.        ,  0.96888889,  1.        ,\n",
       "         0.97259259,  1.        ,  0.97333333,  1.        ,  0.97925926,\n",
       "         1.        ,  0.97925926,  1.        ,  0.9762963 ,  1.        ,\n",
       "         0.98      ,  1.        ,  0.97851852,  1.        ,  0.98      ,\n",
       "         1.        ,  0.97925926,  1.        ,  0.97925926,  1.        ,\n",
       "         0.97777778,  1.        ,  0.97777778,  1.        ,  0.97777778,\n",
       "         1.        ,  0.97777778,  1.        ,  0.97407407,  1.        ,\n",
       "         0.97555556,  1.        ,  0.97111111,  1.        ,  0.97333333,\n",
       "         1.        ,  0.97037037,  1.        ,  0.96962963,  1.        ,\n",
       "         0.96      ,  1.        ,  0.96148148,  1.        ,  0.95481481,\n",
       "         1.        ,  0.95925926,  1.        ,  0.95259259,  1.        ]),\n",
       " 'param_n_neighbors': masked_array(data = [1 1 2 2 3 3 4 4 5 5 6 6 7 7 8 8 9 9 10 10 11 11 12 12 13 13 14 14 15 15 16\n",
       "  16 17 17 18 18 19 19 20 20 21 21 22 22 23 23 24 24 25 25 26 26 27 27 28 28\n",
       "  29 29 30 30],\n",
       "              mask = [False False False False False False False False False False False False\n",
       "  False False False False False False False False False False False False\n",
       "  False False False False False False False False False False False False\n",
       "  False False False False False False False False False False False False\n",
       "  False False False False False False False False False False False False],\n",
       "        fill_value = ?),\n",
       " 'param_weights': masked_array(data = ['uniform' 'distance' 'uniform' 'distance' 'uniform' 'distance' 'uniform'\n",
       "  'distance' 'uniform' 'distance' 'uniform' 'distance' 'uniform' 'distance'\n",
       "  'uniform' 'distance' 'uniform' 'distance' 'uniform' 'distance' 'uniform'\n",
       "  'distance' 'uniform' 'distance' 'uniform' 'distance' 'uniform' 'distance'\n",
       "  'uniform' 'distance' 'uniform' 'distance' 'uniform' 'distance' 'uniform'\n",
       "  'distance' 'uniform' 'distance' 'uniform' 'distance' 'uniform' 'distance'\n",
       "  'uniform' 'distance' 'uniform' 'distance' 'uniform' 'distance' 'uniform'\n",
       "  'distance' 'uniform' 'distance' 'uniform' 'distance' 'uniform' 'distance'\n",
       "  'uniform' 'distance' 'uniform' 'distance'],\n",
       "              mask = [False False False False False False False False False False False False\n",
       "  False False False False False False False False False False False False\n",
       "  False False False False False False False False False False False False\n",
       "  False False False False False False False False False False False False\n",
       "  False False False False False False False False False False False False],\n",
       "        fill_value = ?),\n",
       " 'params': ({'n_neighbors': 1, 'weights': 'uniform'},\n",
       "  {'n_neighbors': 1, 'weights': 'distance'},\n",
       "  {'n_neighbors': 2, 'weights': 'uniform'},\n",
       "  {'n_neighbors': 2, 'weights': 'distance'},\n",
       "  {'n_neighbors': 3, 'weights': 'uniform'},\n",
       "  {'n_neighbors': 3, 'weights': 'distance'},\n",
       "  {'n_neighbors': 4, 'weights': 'uniform'},\n",
       "  {'n_neighbors': 4, 'weights': 'distance'},\n",
       "  {'n_neighbors': 5, 'weights': 'uniform'},\n",
       "  {'n_neighbors': 5, 'weights': 'distance'},\n",
       "  {'n_neighbors': 6, 'weights': 'uniform'},\n",
       "  {'n_neighbors': 6, 'weights': 'distance'},\n",
       "  {'n_neighbors': 7, 'weights': 'uniform'},\n",
       "  {'n_neighbors': 7, 'weights': 'distance'},\n",
       "  {'n_neighbors': 8, 'weights': 'uniform'},\n",
       "  {'n_neighbors': 8, 'weights': 'distance'},\n",
       "  {'n_neighbors': 9, 'weights': 'uniform'},\n",
       "  {'n_neighbors': 9, 'weights': 'distance'},\n",
       "  {'n_neighbors': 10, 'weights': 'uniform'},\n",
       "  {'n_neighbors': 10, 'weights': 'distance'},\n",
       "  {'n_neighbors': 11, 'weights': 'uniform'},\n",
       "  {'n_neighbors': 11, 'weights': 'distance'},\n",
       "  {'n_neighbors': 12, 'weights': 'uniform'},\n",
       "  {'n_neighbors': 12, 'weights': 'distance'},\n",
       "  {'n_neighbors': 13, 'weights': 'uniform'},\n",
       "  {'n_neighbors': 13, 'weights': 'distance'},\n",
       "  {'n_neighbors': 14, 'weights': 'uniform'},\n",
       "  {'n_neighbors': 14, 'weights': 'distance'},\n",
       "  {'n_neighbors': 15, 'weights': 'uniform'},\n",
       "  {'n_neighbors': 15, 'weights': 'distance'},\n",
       "  {'n_neighbors': 16, 'weights': 'uniform'},\n",
       "  {'n_neighbors': 16, 'weights': 'distance'},\n",
       "  {'n_neighbors': 17, 'weights': 'uniform'},\n",
       "  {'n_neighbors': 17, 'weights': 'distance'},\n",
       "  {'n_neighbors': 18, 'weights': 'uniform'},\n",
       "  {'n_neighbors': 18, 'weights': 'distance'},\n",
       "  {'n_neighbors': 19, 'weights': 'uniform'},\n",
       "  {'n_neighbors': 19, 'weights': 'distance'},\n",
       "  {'n_neighbors': 20, 'weights': 'uniform'},\n",
       "  {'n_neighbors': 20, 'weights': 'distance'},\n",
       "  {'n_neighbors': 21, 'weights': 'uniform'},\n",
       "  {'n_neighbors': 21, 'weights': 'distance'},\n",
       "  {'n_neighbors': 22, 'weights': 'uniform'},\n",
       "  {'n_neighbors': 22, 'weights': 'distance'},\n",
       "  {'n_neighbors': 23, 'weights': 'uniform'},\n",
       "  {'n_neighbors': 23, 'weights': 'distance'},\n",
       "  {'n_neighbors': 24, 'weights': 'uniform'},\n",
       "  {'n_neighbors': 24, 'weights': 'distance'},\n",
       "  {'n_neighbors': 25, 'weights': 'uniform'},\n",
       "  {'n_neighbors': 25, 'weights': 'distance'},\n",
       "  {'n_neighbors': 26, 'weights': 'uniform'},\n",
       "  {'n_neighbors': 26, 'weights': 'distance'},\n",
       "  {'n_neighbors': 27, 'weights': 'uniform'},\n",
       "  {'n_neighbors': 27, 'weights': 'distance'},\n",
       "  {'n_neighbors': 28, 'weights': 'uniform'},\n",
       "  {'n_neighbors': 28, 'weights': 'distance'},\n",
       "  {'n_neighbors': 29, 'weights': 'uniform'},\n",
       "  {'n_neighbors': 29, 'weights': 'distance'},\n",
       "  {'n_neighbors': 30, 'weights': 'uniform'},\n",
       "  {'n_neighbors': 30, 'weights': 'distance'}),\n",
       " 'rank_test_score': array([52, 52, 57, 52, 29, 29, 29, 29, 29, 29, 29, 29, 29, 29, 29, 29,  8,\n",
       "         8, 29,  8, 29,  8,  8,  8,  1,  8,  8,  8,  8,  1,  8,  8,  8,  1,\n",
       "         1,  8,  8,  1,  1, 29, 29, 29, 29, 29,  8,  8, 52,  8, 29,  8, 52,\n",
       "        29, 29,  1, 57,  8, 57,  8, 57, 29], dtype=int32),\n",
       " 'split0_test_score': array([ 1.        ,  1.        ,  1.        ,  1.        ,  1.        ,\n",
       "         1.        ,  1.        ,  1.        ,  1.        ,  1.        ,\n",
       "         1.        ,  1.        ,  1.        ,  1.        ,  1.        ,\n",
       "         1.        ,  1.        ,  1.        ,  1.        ,  1.        ,\n",
       "         1.        ,  1.        ,  1.        ,  1.        ,  1.        ,\n",
       "         1.        ,  1.        ,  1.        ,  0.93333333,  1.        ,\n",
       "         1.        ,  1.        ,  0.93333333,  1.        ,  1.        ,\n",
       "         1.        ,  0.93333333,  1.        ,  1.        ,  1.        ,\n",
       "         0.93333333,  1.        ,  0.93333333,  1.        ,  0.93333333,\n",
       "         1.        ,  0.93333333,  1.        ,  0.93333333,  1.        ,\n",
       "         0.93333333,  1.        ,  0.93333333,  1.        ,  0.93333333,\n",
       "         1.        ,  0.93333333,  1.        ,  0.93333333,  1.        ]),\n",
       " 'split0_train_score': array([ 1.        ,  1.        ,  0.97037037,  1.        ,  0.95555556,\n",
       "         1.        ,  0.95555556,  1.        ,  0.96296296,  1.        ,\n",
       "         0.97037037,  1.        ,  0.96296296,  1.        ,  0.97037037,\n",
       "         1.        ,  0.97037037,  1.        ,  0.97037037,  1.        ,\n",
       "         0.97037037,  1.        ,  0.97037037,  1.        ,  0.97777778,\n",
       "         1.        ,  0.97037037,  1.        ,  0.97777778,  1.        ,\n",
       "         0.97037037,  1.        ,  0.97777778,  1.        ,  0.97777778,\n",
       "         1.        ,  0.97777778,  1.        ,  0.97777778,  1.        ,\n",
       "         0.97777778,  1.        ,  0.97777778,  1.        ,  0.97777778,\n",
       "         1.        ,  0.97037037,  1.        ,  0.97777778,  1.        ,\n",
       "         0.96296296,  1.        ,  0.96296296,  1.        ,  0.94814815,\n",
       "         1.        ,  0.95555556,  1.        ,  0.94814815,  1.        ]),\n",
       " 'split1_test_score': array([ 0.93333333,  0.93333333,  0.93333333,  0.93333333,  0.93333333,\n",
       "         0.93333333,  0.93333333,  0.93333333,  0.93333333,  0.93333333,\n",
       "         0.93333333,  0.93333333,  0.93333333,  0.93333333,  0.93333333,\n",
       "         0.93333333,  0.93333333,  0.93333333,  0.93333333,  0.93333333,\n",
       "         0.93333333,  0.93333333,  0.93333333,  0.93333333,  0.93333333,\n",
       "         0.93333333,  0.93333333,  0.93333333,  0.93333333,  0.93333333,\n",
       "         0.93333333,  0.93333333,  0.93333333,  0.93333333,  0.93333333,\n",
       "         0.93333333,  0.93333333,  0.93333333,  0.93333333,  0.93333333,\n",
       "         0.93333333,  0.93333333,  0.93333333,  0.93333333,  0.93333333,\n",
       "         0.93333333,  0.93333333,  0.93333333,  0.93333333,  0.93333333,\n",
       "         0.93333333,  0.93333333,  0.93333333,  0.93333333,  0.93333333,\n",
       "         0.93333333,  0.93333333,  0.93333333,  0.93333333,  0.93333333]),\n",
       " 'split1_train_score': array([ 1.        ,  1.        ,  0.98518519,  1.        ,  0.96296296,\n",
       "         1.        ,  0.96296296,  1.        ,  0.97037037,  1.        ,\n",
       "         0.97037037,  1.        ,  0.97777778,  1.        ,  0.98518519,\n",
       "         1.        ,  0.98518519,  1.        ,  0.98518519,  1.        ,\n",
       "         0.98518519,  1.        ,  0.99259259,  1.        ,  0.97777778,\n",
       "         1.        ,  0.97777778,  1.        ,  0.97777778,  1.        ,\n",
       "         0.98518519,  1.        ,  0.98518519,  1.        ,  0.98518519,\n",
       "         1.        ,  0.98518519,  1.        ,  0.98518519,  1.        ,\n",
       "         0.98518519,  1.        ,  0.98518519,  1.        ,  0.97037037,\n",
       "         1.        ,  0.97777778,  1.        ,  0.97777778,  1.        ,\n",
       "         0.98518519,  1.        ,  0.97777778,  1.        ,  0.97777778,\n",
       "         1.        ,  0.97777778,  1.        ,  0.95555556,  1.        ]),\n",
       " 'split2_test_score': array([ 1.,  1.,  1.,  1.,  1.,  1.,  1.,  1.,  1.,  1.,  1.,  1.,  1.,\n",
       "         1.,  1.,  1.,  1.,  1.,  1.,  1.,  1.,  1.,  1.,  1.,  1.,  1.,\n",
       "         1.,  1.,  1.,  1.,  1.,  1.,  1.,  1.,  1.,  1.,  1.,  1.,  1.,\n",
       "         1.,  1.,  1.,  1.,  1.,  1.,  1.,  1.,  1.,  1.,  1.,  1.,  1.,\n",
       "         1.,  1.,  1.,  1.,  1.,  1.,  1.,  1.]),\n",
       " 'split2_train_score': array([ 1.        ,  1.        ,  0.97777778,  1.        ,  0.95555556,\n",
       "         1.        ,  0.95555556,  1.        ,  0.96296296,  1.        ,\n",
       "         0.97037037,  1.        ,  0.97037037,  1.        ,  0.97777778,\n",
       "         1.        ,  0.97777778,  1.        ,  0.97777778,  1.        ,\n",
       "         0.98518519,  1.        ,  0.98518519,  1.        ,  0.97777778,\n",
       "         1.        ,  0.98518519,  1.        ,  0.97777778,  1.        ,\n",
       "         0.98518519,  1.        ,  0.97777778,  1.        ,  0.97777778,\n",
       "         1.        ,  0.97777778,  1.        ,  0.96296296,  1.        ,\n",
       "         0.97037037,  1.        ,  0.95555556,  1.        ,  0.96296296,\n",
       "         1.        ,  0.94814815,  1.        ,  0.94814815,  1.        ,\n",
       "         0.93333333,  1.        ,  0.94074074,  1.        ,  0.94814815,\n",
       "         1.        ,  0.95555556,  1.        ,  0.94814815,  1.        ]),\n",
       " 'split3_test_score': array([ 0.93333333,  0.93333333,  0.93333333,  0.93333333,  0.93333333,\n",
       "         0.93333333,  0.93333333,  0.93333333,  1.        ,  1.        ,\n",
       "         1.        ,  1.        ,  1.        ,  1.        ,  1.        ,\n",
       "         1.        ,  1.        ,  1.        ,  1.        ,  1.        ,\n",
       "         1.        ,  1.        ,  1.        ,  1.        ,  1.        ,\n",
       "         1.        ,  1.        ,  1.        ,  1.        ,  1.        ,\n",
       "         1.        ,  1.        ,  1.        ,  1.        ,  1.        ,\n",
       "         1.        ,  1.        ,  1.        ,  1.        ,  1.        ,\n",
       "         1.        ,  1.        ,  1.        ,  1.        ,  1.        ,\n",
       "         1.        ,  1.        ,  1.        ,  1.        ,  1.        ,\n",
       "         1.        ,  1.        ,  1.        ,  1.        ,  0.93333333,\n",
       "         1.        ,  0.93333333,  0.93333333,  0.93333333,  0.93333333]),\n",
       " 'split3_train_score': array([ 1.        ,  1.        ,  0.98518519,  1.        ,  0.96296296,\n",
       "         1.        ,  0.96296296,  1.        ,  0.97037037,  1.        ,\n",
       "         0.97777778,  1.        ,  0.97037037,  1.        ,  0.98518519,\n",
       "         1.        ,  0.98518519,  1.        ,  0.97777778,  1.        ,\n",
       "         0.97777778,  1.        ,  0.97777778,  1.        ,  0.97777778,\n",
       "         1.        ,  0.97777778,  1.        ,  0.97777778,  1.        ,\n",
       "         0.98518519,  1.        ,  0.97777778,  1.        ,  0.97777778,\n",
       "         1.        ,  0.97777778,  1.        ,  0.97777778,  1.        ,\n",
       "         0.97777778,  1.        ,  0.97777778,  1.        ,  0.97777778,\n",
       "         1.        ,  0.97777778,  1.        ,  0.97037037,  1.        ,\n",
       "         0.96296296,  1.        ,  0.97037037,  1.        ,  0.96296296,\n",
       "         1.        ,  0.97037037,  1.        ,  0.94814815,  1.        ]),\n",
       " 'split4_test_score': array([ 0.86666667,  0.86666667,  0.86666667,  0.86666667,  0.86666667,\n",
       "         0.86666667,  0.86666667,  0.86666667,  0.86666667,  0.86666667,\n",
       "         0.86666667,  0.86666667,  0.86666667,  0.86666667,  1.        ,\n",
       "         0.86666667,  1.        ,  0.93333333,  1.        ,  0.93333333,\n",
       "         1.        ,  0.93333333,  1.        ,  0.86666667,  1.        ,\n",
       "         0.93333333,  1.        ,  0.93333333,  1.        ,  1.        ,\n",
       "         1.        ,  0.93333333,  1.        ,  1.        ,  1.        ,\n",
       "         0.93333333,  1.        ,  1.        ,  1.        ,  0.86666667,\n",
       "         0.93333333,  0.86666667,  1.        ,  0.86666667,  1.        ,\n",
       "         0.93333333,  1.        ,  0.93333333,  1.        ,  0.93333333,\n",
       "         1.        ,  0.86666667,  1.        ,  1.        ,  1.        ,\n",
       "         0.93333333,  1.        ,  1.        ,  1.        ,  0.93333333]),\n",
       " 'split4_train_score': array([ 1.        ,  1.        ,  0.97777778,  1.        ,  0.97777778,\n",
       "         1.        ,  0.97777778,  1.        ,  0.98518519,  1.        ,\n",
       "         0.98518519,  1.        ,  0.98518519,  1.        ,  0.97777778,\n",
       "         1.        ,  0.97777778,  1.        ,  0.97777778,  1.        ,\n",
       "         0.98518519,  1.        ,  0.97777778,  1.        ,  0.98518519,\n",
       "         1.        ,  0.97777778,  1.        ,  0.97777778,  1.        ,\n",
       "         0.97777778,  1.        ,  0.97777778,  1.        ,  0.97777778,\n",
       "         1.        ,  0.97777778,  1.        ,  0.97777778,  1.        ,\n",
       "         0.97777778,  1.        ,  0.97037037,  1.        ,  0.97777778,\n",
       "         1.        ,  0.97037037,  1.        ,  0.97037037,  1.        ,\n",
       "         0.95555556,  1.        ,  0.94814815,  1.        ,  0.94814815,\n",
       "         1.        ,  0.94814815,  1.        ,  0.94814815,  1.        ]),\n",
       " 'split5_test_score': array([ 1.        ,  1.        ,  1.        ,  1.        ,  1.        ,\n",
       "         1.        ,  1.        ,  1.        ,  0.93333333,  0.93333333,\n",
       "         0.93333333,  0.93333333,  0.93333333,  0.93333333,  0.86666667,\n",
       "         0.93333333,  0.93333333,  0.93333333,  0.86666667,  0.93333333,\n",
       "         0.86666667,  0.93333333,  0.93333333,  1.        ,  0.93333333,\n",
       "         0.93333333,  0.86666667,  0.93333333,  0.93333333,  0.93333333,\n",
       "         0.93333333,  0.93333333,  0.93333333,  0.93333333,  0.93333333,\n",
       "         0.93333333,  0.93333333,  0.93333333,  0.93333333,  0.93333333,\n",
       "         0.93333333,  0.93333333,  0.93333333,  0.93333333,  0.93333333,\n",
       "         0.93333333,  0.86666667,  0.93333333,  0.93333333,  0.93333333,\n",
       "         0.86666667,  0.93333333,  0.86666667,  0.93333333,  0.86666667,\n",
       "         0.93333333,  0.86666667,  0.93333333,  0.86666667,  0.93333333]),\n",
       " 'split5_train_score': array([ 1.        ,  1.        ,  0.97037037,  1.        ,  0.95555556,\n",
       "         1.        ,  0.96296296,  1.        ,  0.96296296,  1.        ,\n",
       "         0.95555556,  1.        ,  0.97037037,  1.        ,  0.97037037,\n",
       "         1.        ,  0.97777778,  1.        ,  0.97037037,  1.        ,\n",
       "         0.98518519,  1.        ,  0.97777778,  1.        ,  0.98518519,\n",
       "         1.        ,  0.97777778,  1.        ,  0.97777778,  1.        ,\n",
       "         0.97777778,  1.        ,  0.98518519,  1.        ,  0.98518519,\n",
       "         1.        ,  0.97777778,  1.        ,  0.97777778,  1.        ,\n",
       "         0.97777778,  1.        ,  0.97777778,  1.        ,  0.97777778,\n",
       "         1.        ,  0.97777778,  1.        ,  0.97777778,  1.        ,\n",
       "         0.96296296,  1.        ,  0.97037037,  1.        ,  0.96296296,\n",
       "         1.        ,  0.96296296,  1.        ,  0.96296296,  1.        ]),\n",
       " 'split6_test_score': array([ 0.86666667,  0.86666667,  0.86666667,  0.86666667,  0.93333333,\n",
       "         0.93333333,  0.93333333,  0.93333333,  0.93333333,  0.93333333,\n",
       "         0.93333333,  0.93333333,  0.93333333,  0.93333333,  0.93333333,\n",
       "         0.93333333,  0.93333333,  0.93333333,  0.93333333,  0.93333333,\n",
       "         0.93333333,  0.93333333,  0.93333333,  0.93333333,  0.93333333,\n",
       "         0.93333333,  0.93333333,  0.93333333,  0.93333333,  0.93333333,\n",
       "         0.93333333,  0.93333333,  0.93333333,  0.93333333,  0.93333333,\n",
       "         0.93333333,  0.93333333,  0.93333333,  0.93333333,  0.93333333,\n",
       "         0.93333333,  0.93333333,  0.93333333,  0.93333333,  0.93333333,\n",
       "         0.93333333,  0.93333333,  0.93333333,  0.93333333,  0.93333333,\n",
       "         0.93333333,  0.93333333,  0.93333333,  0.93333333,  0.93333333,\n",
       "         0.93333333,  0.93333333,  0.93333333,  0.93333333,  0.93333333]),\n",
       " 'split6_train_score': array([ 1.        ,  1.        ,  0.98518519,  1.        ,  0.97037037,\n",
       "         1.        ,  0.97037037,  1.        ,  0.97777778,  1.        ,\n",
       "         0.98518519,  1.        ,  0.97777778,  1.        ,  0.99259259,\n",
       "         1.        ,  0.99259259,  1.        ,  0.98518519,  1.        ,\n",
       "         0.99259259,  1.        ,  0.98518519,  1.        ,  0.99259259,\n",
       "         1.        ,  0.99259259,  1.        ,  0.98518519,  1.        ,\n",
       "         0.98518519,  1.        ,  0.97777778,  1.        ,  0.98518519,\n",
       "         1.        ,  0.98518519,  1.        ,  0.98518519,  1.        ,\n",
       "         0.98518519,  1.        ,  0.97777778,  1.        ,  0.97777778,\n",
       "         1.        ,  0.97777778,  1.        ,  0.97777778,  1.        ,\n",
       "         0.96296296,  1.        ,  0.97037037,  1.        ,  0.95555556,\n",
       "         1.        ,  0.96296296,  1.        ,  0.96296296,  1.        ]),\n",
       " 'split7_test_score': array([ 1.        ,  1.        ,  0.93333333,  1.        ,  1.        ,\n",
       "         1.        ,  1.        ,  1.        ,  1.        ,  1.        ,\n",
       "         1.        ,  1.        ,  1.        ,  1.        ,  0.93333333,\n",
       "         1.        ,  0.93333333,  1.        ,  0.93333333,  1.        ,\n",
       "         0.93333333,  1.        ,  0.93333333,  1.        ,  1.        ,\n",
       "         1.        ,  1.        ,  1.        ,  1.        ,  1.        ,\n",
       "         0.93333333,  1.        ,  1.        ,  1.        ,  1.        ,\n",
       "         1.        ,  1.        ,  1.        ,  1.        ,  1.        ,\n",
       "         1.        ,  1.        ,  0.93333333,  1.        ,  1.        ,\n",
       "         1.        ,  0.93333333,  1.        ,  0.93333333,  1.        ,\n",
       "         0.93333333,  1.        ,  1.        ,  1.        ,  0.93333333,\n",
       "         1.        ,  0.93333333,  1.        ,  0.93333333,  1.        ]),\n",
       " 'split7_train_score': array([ 1.        ,  1.        ,  0.97777778,  1.        ,  0.95555556,\n",
       "         1.        ,  0.96296296,  1.        ,  0.96296296,  1.        ,\n",
       "         0.97037037,  1.        ,  0.97037037,  1.        ,  0.97777778,\n",
       "         1.        ,  0.97037037,  1.        ,  0.97777778,  1.        ,\n",
       "         0.97777778,  1.        ,  0.97037037,  1.        ,  0.97037037,\n",
       "         1.        ,  0.97777778,  1.        ,  0.97777778,  1.        ,\n",
       "         0.97037037,  1.        ,  0.97777778,  1.        ,  0.97777778,\n",
       "         1.        ,  0.97777778,  1.        ,  0.97777778,  1.        ,\n",
       "         0.97777778,  1.        ,  0.97037037,  1.        ,  0.97777778,\n",
       "         1.        ,  0.97777778,  1.        ,  0.97777778,  1.        ,\n",
       "         0.97037037,  1.        ,  0.97037037,  1.        ,  0.96296296,\n",
       "         1.        ,  0.96296296,  1.        ,  0.95555556,  1.        ]),\n",
       " 'split8_test_score': array([ 1.,  1.,  1.,  1.,  1.,  1.,  1.,  1.,  1.,  1.,  1.,  1.,  1.,\n",
       "         1.,  1.,  1.,  1.,  1.,  1.,  1.,  1.,  1.,  1.,  1.,  1.,  1.,\n",
       "         1.,  1.,  1.,  1.,  1.,  1.,  1.,  1.,  1.,  1.,  1.,  1.,  1.,\n",
       "         1.,  1.,  1.,  1.,  1.,  1.,  1.,  1.,  1.,  1.,  1.,  1.,  1.,\n",
       "         1.,  1.,  1.,  1.,  1.,  1.,  1.,  1.]),\n",
       " 'split8_train_score': array([ 1.        ,  1.        ,  0.97777778,  1.        ,  0.95555556,\n",
       "         1.        ,  0.95555556,  1.        ,  0.96296296,  1.        ,\n",
       "         0.97037037,  1.        ,  0.97037037,  1.        ,  0.97777778,\n",
       "         1.        ,  0.97777778,  1.        ,  0.97777778,  1.        ,\n",
       "         0.97777778,  1.        ,  0.98518519,  1.        ,  0.97777778,\n",
       "         1.        ,  0.98518519,  1.        ,  0.98518519,  1.        ,\n",
       "         0.97777778,  1.        ,  0.97777778,  1.        ,  0.97777778,\n",
       "         1.        ,  0.97777778,  1.        ,  0.97777778,  1.        ,\n",
       "         0.97777778,  1.        ,  0.97037037,  1.        ,  0.97777778,\n",
       "         1.        ,  0.97037037,  1.        ,  0.97037037,  1.        ,\n",
       "         0.96296296,  1.        ,  0.97037037,  1.        ,  0.94814815,\n",
       "         1.        ,  0.95555556,  1.        ,  0.95555556,  1.        ]),\n",
       " 'split9_test_score': array([ 1.,  1.,  1.,  1.,  1.,  1.,  1.,  1.,  1.,  1.,  1.,  1.,  1.,\n",
       "         1.,  1.,  1.,  1.,  1.,  1.,  1.,  1.,  1.,  1.,  1.,  1.,  1.,\n",
       "         1.,  1.,  1.,  1.,  1.,  1.,  1.,  1.,  1.,  1.,  1.,  1.,  1.,\n",
       "         1.,  1.,  1.,  1.,  1.,  1.,  1.,  1.,  1.,  1.,  1.,  1.,  1.,\n",
       "         1.,  1.,  1.,  1.,  1.,  1.,  1.,  1.]),\n",
       " 'split9_train_score': array([ 1.        ,  1.        ,  0.97777778,  1.        ,  0.95555556,\n",
       "         1.        ,  0.97037037,  1.        ,  0.97037037,  1.        ,\n",
       "         0.97037037,  1.        ,  0.97777778,  1.        ,  0.97777778,\n",
       "         1.        ,  0.97777778,  1.        ,  0.96296296,  1.        ,\n",
       "         0.96296296,  1.        ,  0.96296296,  1.        ,  0.97777778,\n",
       "         1.        ,  0.97037037,  1.        ,  0.97777778,  1.        ,\n",
       "         0.96296296,  1.        ,  0.96296296,  1.        ,  0.95555556,\n",
       "         1.        ,  0.96296296,  1.        ,  0.94074074,  1.        ,\n",
       "         0.94814815,  1.        ,  0.94814815,  1.        ,  0.95555556,\n",
       "         1.        ,  0.95555556,  1.        ,  0.94814815,  1.        ,\n",
       "         0.94074074,  1.        ,  0.93333333,  1.        ,  0.93333333,\n",
       "         1.        ,  0.94074074,  1.        ,  0.94074074,  1.        ]),\n",
       " 'std_fit_time': array([  1.28113307e-04,   4.60223454e-05,   5.48446120e-05,\n",
       "          1.78480480e-04,   1.42079953e-04,   6.21686491e-05,\n",
       "          8.61905422e-06,   3.01708703e-05,   5.88966280e-06,\n",
       "          3.11576597e-05,   8.54870886e-05,   4.21731399e-06,\n",
       "          1.31800413e-06,   1.30583099e-05,   5.81009054e-05,\n",
       "          7.04036137e-05,   3.60674596e-06,   3.34262508e-06,\n",
       "          1.61369050e-06,   5.55387368e-06,   4.23077111e-06,\n",
       "          6.49028625e-06,   1.20277388e-06,   1.34468924e-06,\n",
       "          1.21593475e-06,   6.17978014e-06,   4.87121307e-06,\n",
       "          4.91974875e-06,   1.71263552e-06,   8.62600923e-07,\n",
       "          4.11746884e-06,   3.30095667e-06,   7.95846788e-06,\n",
       "          9.07557788e-07,   7.58189825e-06,   8.86006554e-07,\n",
       "          3.66451760e-06,   2.24620165e-06,   7.82201907e-06,\n",
       "          2.46280276e-05,   1.21434634e-04,   7.15591233e-05,\n",
       "          7.27785512e-05,   8.76724605e-05,   6.44604169e-05,\n",
       "          1.03407118e-04,   6.75549693e-06,   9.76618611e-05,\n",
       "          5.85721036e-05,   8.08072847e-05,   4.75434386e-06,\n",
       "          8.02079221e-06,   5.97931741e-06,   9.65018159e-06,\n",
       "          7.29529880e-05,   5.82424919e-06,   1.46292677e-06,\n",
       "          1.60220123e-06,   1.68266773e-06,   6.00327377e-06]),\n",
       " 'std_score_time': array([  1.52281371e-04,   5.57974052e-05,   7.23450958e-05,\n",
       "          3.21949249e-04,   2.28530813e-04,   2.45163403e-05,\n",
       "          8.64789246e-06,   1.06589105e-05,   8.35162961e-06,\n",
       "          7.46382833e-05,   1.21221441e-04,   3.42286055e-05,\n",
       "          3.47437310e-06,   2.34871345e-05,   9.80300079e-05,\n",
       "          2.58654932e-04,   6.02029337e-06,   3.98694039e-06,\n",
       "          1.29472484e-06,   2.18535567e-05,   8.65367485e-06,\n",
       "          5.62309094e-06,   2.63136787e-06,   5.00116714e-06,\n",
       "          4.50611115e-06,   4.39525152e-06,   7.91036054e-06,\n",
       "          1.54546741e-05,   6.00422057e-06,   2.48744973e-06,\n",
       "          5.07047433e-06,   4.70234941e-06,   1.51274851e-05,\n",
       "          2.69792509e-06,   1.02071001e-05,   4.42431912e-06,\n",
       "          7.73597569e-06,   5.98691792e-06,   6.95610465e-06,\n",
       "          4.06711699e-05,   2.21411016e-04,   2.19882090e-04,\n",
       "          8.48055389e-05,   2.71214900e-04,   2.32748976e-04,\n",
       "          2.40323493e-04,   1.70736019e-04,   1.39217882e-04,\n",
       "          1.58207779e-04,   1.53433100e-04,   1.13045611e-05,\n",
       "          1.42202443e-05,   4.29409269e-05,   3.43198555e-06,\n",
       "          1.46308811e-04,   1.20128189e-05,   4.18478943e-05,\n",
       "          2.96023334e-06,   6.35572240e-06,   4.98768021e-06]),\n",
       " 'std_test_score': array([ 0.05333333,  0.05333333,  0.05206833,  0.05333333,  0.04472136,\n",
       "         0.04472136,  0.04472136,  0.04472136,  0.04472136,  0.04472136,\n",
       "         0.04472136,  0.04472136,  0.04472136,  0.04472136,  0.04472136,\n",
       "         0.04472136,  0.03265986,  0.03265986,  0.04472136,  0.03265986,\n",
       "         0.04472136,  0.03265986,  0.03265986,  0.04422166,  0.0305505 ,\n",
       "         0.03265986,  0.04422166,  0.03265986,  0.03265986,  0.0305505 ,\n",
       "         0.03265986,  0.03265986,  0.03265986,  0.0305505 ,  0.0305505 ,\n",
       "         0.03265986,  0.03265986,  0.0305505 ,  0.0305505 ,  0.04472136,\n",
       "         0.03333333,  0.04472136,  0.03333333,  0.04472136,  0.03265986,\n",
       "         0.03265986,  0.04422166,  0.03265986,  0.03333333,  0.03265986,\n",
       "         0.04422166,  0.04472136,  0.04472136,  0.0305505 ,  0.04268749,\n",
       "         0.03265986,  0.04268749,  0.03265986,  0.04268749,  0.03333333]),\n",
       " 'std_train_score': array([ 0.        ,  0.        ,  0.00518519,  0.        ,  0.00744435,\n",
       "         0.        ,  0.00698813,  0.        ,  0.00725775,  0.        ,\n",
       "         0.00814815,  0.        ,  0.00592593,  0.        ,  0.00645763,\n",
       "         0.        ,  0.00645763,  0.        ,  0.00645763,  0.        ,\n",
       "         0.00814815,  0.        ,  0.0084132 ,  0.        ,  0.00578537,\n",
       "         0.        ,  0.00645763,  0.        ,  0.00296296,  0.        ,\n",
       "         0.00740741,  0.        ,  0.00573775,  0.        ,  0.00811441,\n",
       "         0.        ,  0.00573775,  0.        ,  0.01250514,  0.        ,\n",
       "         0.00996565,  0.        ,  0.01070876,  0.        ,  0.0075541 ,\n",
       "         0.        ,  0.00993808,  0.        ,  0.01120944,  0.        ,\n",
       "         0.01373869,  0.        ,  0.0143635 ,  0.        ,  0.01168869,\n",
       "         0.        ,  0.01007516,  0.        ,  0.006789  ,  0.        ])}"
      ]
     },
     "execution_count": 30,
     "metadata": {},
     "output_type": "execute_result"
    }
   ],
   "source": [
    "# view the complete results\n",
    "grid.cv_results_"
   ]
  },
  {
   "cell_type": "code",
   "execution_count": 31,
   "metadata": {},
   "outputs": [
    {
     "name": "stdout",
     "output_type": "stream",
     "text": [
      "0.98\n",
      "{'n_neighbors': 13, 'weights': 'uniform'}\n"
     ]
    }
   ],
   "source": [
    "# examine the best model\n",
    "print(grid.best_score_)\n",
    "print(grid.best_params_)"
   ]
  },
  {
   "cell_type": "markdown",
   "metadata": {},
   "source": [
    "### 2.5 Using the best parameters to make predictions\n",
    "Once you've found the best set of parameters using cross-validation you should retrain your model using all the data. See below."
   ]
  },
  {
   "cell_type": "code",
   "execution_count": 32,
   "metadata": {},
   "outputs": [
    {
     "data": {
      "text/plain": [
       "array([1])"
      ]
     },
     "execution_count": 32,
     "metadata": {},
     "output_type": "execute_result"
    }
   ],
   "source": [
    "# train your model using all data and the best known parameters\n",
    "knn = KNeighborsClassifier(n_neighbors=13, weights='uniform')\n",
    "knn.fit(X, y)\n",
    "\n",
    "# make a prediction on out-of-sample data\n",
    "knn.predict([[3, 5, 4, 2]])"
   ]
  },
  {
   "cell_type": "code",
   "execution_count": 33,
   "metadata": {},
   "outputs": [
    {
     "data": {
      "text/plain": [
       "array([1])"
      ]
     },
     "execution_count": 33,
     "metadata": {},
     "output_type": "execute_result"
    }
   ],
   "source": [
    "# shortcut: GridSearchCV automatically refits the best model using all of the data\n",
    "grid.predict([[3, 5, 4, 2]])"
   ]
  },
  {
   "cell_type": "markdown",
   "metadata": {},
   "source": [
    "### 2.6 Reducing computational expense using `RandomizedSearchCV`"
   ]
  },
  {
   "cell_type": "markdown",
   "metadata": {},
   "source": [
    "- Searching many different sets of parameters at once may be computationally infeasible\n",
    "- `RandomizedSearchCV` searches a subset of the parameters, and you control the computational \"budget\""
   ]
  },
  {
   "cell_type": "code",
   "execution_count": 34,
   "metadata": {},
   "outputs": [
    {
     "name": "stderr",
     "output_type": "stream",
     "text": [
      "/anaconda/lib/python3.6/site-packages/sklearn/cross_validation.py:44: DeprecationWarning: This module was deprecated in version 0.18 in favor of the model_selection module into which all the refactored classes and functions are moved. Also note that the interface of the new CV iterators are different from that of this module. This module will be removed in 0.20.\n",
      "  \"This module will be removed in 0.20.\", DeprecationWarning)\n",
      "/anaconda/lib/python3.6/site-packages/sklearn/grid_search.py:43: DeprecationWarning: This module was deprecated in version 0.18 in favor of the model_selection module into which all the refactored classes and functions are moved. This module will be removed in 0.20.\n",
      "  DeprecationWarning)\n"
     ]
    }
   ],
   "source": [
    "from sklearn.grid_search import RandomizedSearchCV"
   ]
  },
  {
   "cell_type": "code",
   "execution_count": 57,
   "metadata": {
    "collapsed": true
   },
   "outputs": [],
   "source": [
    "# specify \"parameter distributions\" rather than a \"parameter grid\"\n",
    "param_dist = dict(n_neighbors=k_range, weights=weight_options)"
   ]
  },
  {
   "cell_type": "markdown",
   "metadata": {},
   "source": [
    "- **Important:** Specify a continuous distribution (rather than a list of values) for any continous parameters"
   ]
  },
  {
   "cell_type": "code",
   "execution_count": 58,
   "metadata": {},
   "outputs": [
    {
     "data": {
      "text/plain": [
       "[mean: 0.97333, std: 0.03266, params: {'weights': 'distance', 'n_neighbors': 16},\n",
       " mean: 0.96667, std: 0.03333, params: {'weights': 'uniform', 'n_neighbors': 22},\n",
       " mean: 0.98000, std: 0.03055, params: {'weights': 'uniform', 'n_neighbors': 18},\n",
       " mean: 0.96667, std: 0.04472, params: {'weights': 'uniform', 'n_neighbors': 27},\n",
       " mean: 0.95333, std: 0.04269, params: {'weights': 'uniform', 'n_neighbors': 29},\n",
       " mean: 0.97333, std: 0.03266, params: {'weights': 'distance', 'n_neighbors': 10},\n",
       " mean: 0.96667, std: 0.04472, params: {'weights': 'distance', 'n_neighbors': 22},\n",
       " mean: 0.97333, std: 0.04422, params: {'weights': 'uniform', 'n_neighbors': 14},\n",
       " mean: 0.97333, std: 0.04422, params: {'weights': 'distance', 'n_neighbors': 12},\n",
       " mean: 0.97333, std: 0.03266, params: {'weights': 'uniform', 'n_neighbors': 15}]"
      ]
     },
     "execution_count": 58,
     "metadata": {},
     "output_type": "execute_result"
    }
   ],
   "source": [
    "# n_iter controls the number of searches\n",
    "rand = RandomizedSearchCV(knn, param_dist, cv=10, scoring='accuracy', n_iter=10, random_state=5)\n",
    "rand.fit(X, y)\n",
    "rand.grid_scores_"
   ]
  },
  {
   "cell_type": "code",
   "execution_count": 38,
   "metadata": {},
   "outputs": [
    {
     "name": "stdout",
     "output_type": "stream",
     "text": [
      "0.98\n",
      "{'weights': 'uniform', 'n_neighbors': 18}\n"
     ]
    }
   ],
   "source": [
    "# examine the best model\n",
    "print(rand.best_score_)\n",
    "print(rand.best_params_)"
   ]
  },
  {
   "cell_type": "code",
   "execution_count": 63,
   "metadata": {},
   "outputs": [
    {
     "name": "stdout",
     "output_type": "stream",
     "text": [
      "[0.98, 0.98, 0.98, 0.98, 0.98, 0.98, 0.973, 0.98, 0.98, 0.98, 0.98, 0.973, 0.98, 0.973, 0.98, 0.973, 0.98, 0.98, 0.98, 0.973]\n",
      "[{'weights': 'uniform', 'n_neighbors': 18}, {'weights': 'distance', 'n_neighbors': 17}, {'weights': 'uniform', 'n_neighbors': 13}, {'weights': 'uniform', 'n_neighbors': 18}, {'weights': 'distance', 'n_neighbors': 27}, {'weights': 'uniform', 'n_neighbors': 13}, {'weights': 'distance', 'n_neighbors': 12}, {'weights': 'distance', 'n_neighbors': 27}, {'weights': 'distance', 'n_neighbors': 15}, {'weights': 'uniform', 'n_neighbors': 13}, {'weights': 'distance', 'n_neighbors': 17}, {'weights': 'distance', 'n_neighbors': 29}, {'weights': 'uniform', 'n_neighbors': 13}, {'weights': 'distance', 'n_neighbors': 10}, {'weights': 'distance', 'n_neighbors': 19}, {'weights': 'distance', 'n_neighbors': 24}, {'weights': 'distance', 'n_neighbors': 19}, {'weights': 'uniform', 'n_neighbors': 13}, {'weights': 'uniform', 'n_neighbors': 13}, {'weights': 'uniform', 'n_neighbors': 16}]\n"
     ]
    }
   ],
   "source": [
    "# run RandomizedSearchCV 20 times (with n_iter=10) and record the best score\n",
    "best_scores = []\n",
    "params = []\n",
    "for _ in range(20):\n",
    "    rand = RandomizedSearchCV(knn, param_dist, cv=10, scoring='accuracy', n_iter=10)\n",
    "    rand.fit(X, y)\n",
    "    best_scores.append(round(rand.best_score_, 3))\n",
    "    params.append(rand.best_params_)\n",
    "    \n",
    "print(best_scores)\n",
    "print(params)\n"
   ]
  },
  {
   "cell_type": "markdown",
   "metadata": {},
   "source": [
    "### 2.7 Resources\n",
    "\n",
    "- scikit-learn documentation: [Grid search](http://scikit-learn.org/stable/modules/grid_search.html), [GridSearchCV](http://scikit-learn.org/stable/modules/generated/sklearn.grid_search.GridSearchCV.html), [RandomizedSearchCV](http://scikit-learn.org/stable/modules/generated/sklearn.grid_search.RandomizedSearchCV.html)\n",
    "- Timed example: [Comparing randomized search and grid search](http://scikit-learn.org/stable/auto_examples/model_selection/randomized_search.html)\n",
    "- scikit-learn workshop by Andreas Mueller: [Video segment on randomized search](https://youtu.be/0wUF_Ov8b0A?t=17m38s) (3 minutes), [related notebook](https://github.com/amueller/pydata-nyc-advanced-sklearn/blob/master/Chapter%203%20-%20Randomized%20Hyper%20Parameter%20Search.ipynb)\n",
    "- Paper by Yoshua Bengio: [Random Search for Hyper-Parameter Optimization](http://www.jmlr.org/papers/volume13/bergstra12a/bergstra12a.pdf)"
   ]
  },
  {
   "cell_type": "markdown",
   "metadata": {},
   "source": [
    "***\n",
    "## Part 3: Evaluating classifier performance, I"
   ]
  },
  {
   "cell_type": "markdown",
   "metadata": {},
   "source": [
    "### Agenda\n",
    "\n",
    "- What is the purpose of **model evaluation**, and what are some common evaluation procedures?\n",
    "- What is the usage of **classification accuracy**, and what are its limitations?\n",
    "- How does a **confusion matrix** describe the performance of a classifier?\n",
    "- What **metrics** can be computed from a confusion matrix?"
   ]
  },
  {
   "cell_type": "markdown",
   "metadata": {},
   "source": [
    "### 3.1 Review of model evaluation\n",
    "\n",
    "- Need a way to choose between models: different model types, tuning parameters, and features\n",
    "- Use a **model evaluation procedure** to estimate how well a model will generalize to out-of-sample data\n",
    "- Requires a **model evaluation metric** to quantify the model performance"
   ]
  },
  {
   "cell_type": "markdown",
   "metadata": {},
   "source": [
    "### Model evaluation procedures\n",
    "\n",
    "1. **Training and testing on the same data**\n",
    "    - Rewards overly complex models that \"overfit\" the training data and won't necessarily generalize\n",
    "2. **Train/test split**\n",
    "    - Split the dataset into two pieces, so that the model can be trained and tested on different data\n",
    "    - Better estimate of out-of-sample performance, but still a \"high variance\" estimate\n",
    "    - Useful due to its speed, simplicity, and flexibility\n",
    "3. **K-fold cross-validation**\n",
    "    - Systematically create \"K\" train/test splits and average the results together\n",
    "    - Even better estimate of out-of-sample performance\n",
    "    - Runs \"K\" times slower than train/test split"
   ]
  },
  {
   "cell_type": "markdown",
   "metadata": {},
   "source": [
    "### Model evaluation metrics\n",
    "\n",
    "- **Regression problems:** Mean Absolute Error, Mean Squared Error, Root Mean Squared Error\n",
    "- **Classification problems:** Classification accuracy"
   ]
  },
  {
   "cell_type": "markdown",
   "metadata": {},
   "source": [
    "### 3.2 Classification accuracy\n",
    "\n",
    "[Pima Indian Diabetes dataset](https://archive.ics.uci.edu/ml/datasets/Pima+Indians+Diabetes) from the UCI Machine Learning Repository"
   ]
  },
  {
   "cell_type": "code",
   "execution_count": 64,
   "metadata": {
    "collapsed": true
   },
   "outputs": [],
   "source": [
    "# read the data into a Pandas DataFrame\n",
    "import pandas as pd\n",
    "url = 'https://archive.ics.uci.edu/ml/machine-learning-databases/pima-indians-diabetes/pima-indians-diabetes.data'\n",
    "col_names = ['pregnant', 'glucose', 'bp', 'skin', 'insulin', 'bmi', 'pedigree', 'age', 'label']\n",
    "pima = pd.read_csv(url, header=None, names=col_names)"
   ]
  },
  {
   "cell_type": "code",
   "execution_count": 65,
   "metadata": {},
   "outputs": [
    {
     "data": {
      "text/html": [
       "<div>\n",
       "<style>\n",
       "    .dataframe thead tr:only-child th {\n",
       "        text-align: right;\n",
       "    }\n",
       "\n",
       "    .dataframe thead th {\n",
       "        text-align: left;\n",
       "    }\n",
       "\n",
       "    .dataframe tbody tr th {\n",
       "        vertical-align: top;\n",
       "    }\n",
       "</style>\n",
       "<table border=\"1\" class=\"dataframe\">\n",
       "  <thead>\n",
       "    <tr style=\"text-align: right;\">\n",
       "      <th></th>\n",
       "      <th>pregnant</th>\n",
       "      <th>glucose</th>\n",
       "      <th>bp</th>\n",
       "      <th>skin</th>\n",
       "      <th>insulin</th>\n",
       "      <th>bmi</th>\n",
       "      <th>pedigree</th>\n",
       "      <th>age</th>\n",
       "      <th>label</th>\n",
       "    </tr>\n",
       "  </thead>\n",
       "  <tbody>\n",
       "    <tr>\n",
       "      <th>0</th>\n",
       "      <td>6</td>\n",
       "      <td>148</td>\n",
       "      <td>72</td>\n",
       "      <td>35</td>\n",
       "      <td>0</td>\n",
       "      <td>33.6</td>\n",
       "      <td>0.627</td>\n",
       "      <td>50</td>\n",
       "      <td>1</td>\n",
       "    </tr>\n",
       "    <tr>\n",
       "      <th>1</th>\n",
       "      <td>1</td>\n",
       "      <td>85</td>\n",
       "      <td>66</td>\n",
       "      <td>29</td>\n",
       "      <td>0</td>\n",
       "      <td>26.6</td>\n",
       "      <td>0.351</td>\n",
       "      <td>31</td>\n",
       "      <td>0</td>\n",
       "    </tr>\n",
       "    <tr>\n",
       "      <th>2</th>\n",
       "      <td>8</td>\n",
       "      <td>183</td>\n",
       "      <td>64</td>\n",
       "      <td>0</td>\n",
       "      <td>0</td>\n",
       "      <td>23.3</td>\n",
       "      <td>0.672</td>\n",
       "      <td>32</td>\n",
       "      <td>1</td>\n",
       "    </tr>\n",
       "    <tr>\n",
       "      <th>3</th>\n",
       "      <td>1</td>\n",
       "      <td>89</td>\n",
       "      <td>66</td>\n",
       "      <td>23</td>\n",
       "      <td>94</td>\n",
       "      <td>28.1</td>\n",
       "      <td>0.167</td>\n",
       "      <td>21</td>\n",
       "      <td>0</td>\n",
       "    </tr>\n",
       "    <tr>\n",
       "      <th>4</th>\n",
       "      <td>0</td>\n",
       "      <td>137</td>\n",
       "      <td>40</td>\n",
       "      <td>35</td>\n",
       "      <td>168</td>\n",
       "      <td>43.1</td>\n",
       "      <td>2.288</td>\n",
       "      <td>33</td>\n",
       "      <td>1</td>\n",
       "    </tr>\n",
       "  </tbody>\n",
       "</table>\n",
       "</div>"
      ],
      "text/plain": [
       "   pregnant  glucose  bp  skin  insulin   bmi  pedigree  age  label\n",
       "0         6      148  72    35        0  33.6     0.627   50      1\n",
       "1         1       85  66    29        0  26.6     0.351   31      0\n",
       "2         8      183  64     0        0  23.3     0.672   32      1\n",
       "3         1       89  66    23       94  28.1     0.167   21      0\n",
       "4         0      137  40    35      168  43.1     2.288   33      1"
      ]
     },
     "execution_count": 65,
     "metadata": {},
     "output_type": "execute_result"
    }
   ],
   "source": [
    "# print the first 5 rows of data\n",
    "pima.head()"
   ]
  },
  {
   "cell_type": "markdown",
   "metadata": {},
   "source": [
    "**Question:** Can we predict the diabetes status of a patient given their health measurements?"
   ]
  },
  {
   "cell_type": "code",
   "execution_count": 66,
   "metadata": {
    "collapsed": true
   },
   "outputs": [],
   "source": [
    "# define X and y\n",
    "feature_cols = ['pregnant', 'insulin', 'bmi', 'age']\n",
    "X = pima[feature_cols]\n",
    "y = pima.label"
   ]
  },
  {
   "cell_type": "code",
   "execution_count": 67,
   "metadata": {
    "collapsed": true
   },
   "outputs": [],
   "source": [
    "# split X and y into training and testing sets\n",
    "from sklearn.cross_validation import train_test_split\n",
    "X_train, X_test, y_train, y_test = train_test_split(X, y, random_state=0)"
   ]
  },
  {
   "cell_type": "code",
   "execution_count": 68,
   "metadata": {},
   "outputs": [
    {
     "data": {
      "text/plain": [
       "LogisticRegression(C=1.0, class_weight=None, dual=False, fit_intercept=True,\n",
       "          intercept_scaling=1, max_iter=100, multi_class='ovr', n_jobs=1,\n",
       "          penalty='l2', random_state=None, solver='liblinear', tol=0.0001,\n",
       "          verbose=0, warm_start=False)"
      ]
     },
     "execution_count": 68,
     "metadata": {},
     "output_type": "execute_result"
    }
   ],
   "source": [
    "# train a logistic regression model on the training set\n",
    "from sklearn.linear_model import LogisticRegression\n",
    "logreg = LogisticRegression()\n",
    "logreg.fit(X_train, y_train)"
   ]
  },
  {
   "cell_type": "code",
   "execution_count": 69,
   "metadata": {
    "collapsed": true
   },
   "outputs": [],
   "source": [
    "# make class predictions for the testing set\n",
    "y_pred_class = logreg.predict(X_test)"
   ]
  },
  {
   "cell_type": "markdown",
   "metadata": {},
   "source": [
    "**Classification accuracy:** percentage of correct predictions"
   ]
  },
  {
   "cell_type": "code",
   "execution_count": 70,
   "metadata": {},
   "outputs": [
    {
     "name": "stdout",
     "output_type": "stream",
     "text": [
      "0.692708333333\n"
     ]
    }
   ],
   "source": [
    "# calculate accuracy\n",
    "from sklearn import metrics\n",
    "print(metrics.accuracy_score(y_test, y_pred_class))"
   ]
  },
  {
   "cell_type": "markdown",
   "metadata": {},
   "source": [
    "**Null accuracy:** accuracy that could be achieved by always predicting the most frequent class"
   ]
  },
  {
   "cell_type": "code",
   "execution_count": 71,
   "metadata": {},
   "outputs": [
    {
     "data": {
      "text/plain": [
       "0    130\n",
       "1     62\n",
       "Name: label, dtype: int64"
      ]
     },
     "execution_count": 71,
     "metadata": {},
     "output_type": "execute_result"
    }
   ],
   "source": [
    "# examine the class distribution of the testing set (using a Pandas Series method)\n",
    "y_test.value_counts()"
   ]
  },
  {
   "cell_type": "code",
   "execution_count": 72,
   "metadata": {},
   "outputs": [
    {
     "data": {
      "text/plain": [
       "0.3229166666666667"
      ]
     },
     "execution_count": 72,
     "metadata": {},
     "output_type": "execute_result"
    }
   ],
   "source": [
    "# calculate the percentage of ones\n",
    "y_test.mean()"
   ]
  },
  {
   "cell_type": "code",
   "execution_count": 73,
   "metadata": {},
   "outputs": [
    {
     "data": {
      "text/plain": [
       "0.6770833333333333"
      ]
     },
     "execution_count": 73,
     "metadata": {},
     "output_type": "execute_result"
    }
   ],
   "source": [
    "# calculate the percentage of zeros\n",
    "1 - y_test.mean()"
   ]
  },
  {
   "cell_type": "code",
   "execution_count": 74,
   "metadata": {},
   "outputs": [
    {
     "data": {
      "text/plain": [
       "0.6770833333333333"
      ]
     },
     "execution_count": 74,
     "metadata": {},
     "output_type": "execute_result"
    }
   ],
   "source": [
    "# calculate null accuracy (for binary classification problems coded as 0/1)\n",
    "max(y_test.mean(), 1 - y_test.mean())"
   ]
  },
  {
   "cell_type": "code",
   "execution_count": 75,
   "metadata": {},
   "outputs": [
    {
     "data": {
      "text/plain": [
       "0    0.677083\n",
       "Name: label, dtype: float64"
      ]
     },
     "execution_count": 75,
     "metadata": {},
     "output_type": "execute_result"
    }
   ],
   "source": [
    "# calculate null accuracy (for multi-class classification problems)\n",
    "y_test.value_counts().head(1) / len(y_test)"
   ]
  },
  {
   "cell_type": "markdown",
   "metadata": {},
   "source": [
    "Comparing the **true** and **predicted** response values"
   ]
  },
  {
   "cell_type": "code",
   "execution_count": 76,
   "metadata": {},
   "outputs": [
    {
     "name": "stdout",
     "output_type": "stream",
     "text": [
      "True: [1 0 0 1 0 0 1 1 0 0 1 1 0 0 0 0 1 0 0 0 1 1 0 0 0]\n",
      "Pred: [0 0 0 0 0 0 0 1 0 1 0 1 0 0 0 0 0 0 0 0 0 0 0 0 0]\n"
     ]
    }
   ],
   "source": [
    "# print the first 25 true and predicted responses\n",
    "from __future__ import print_function\n",
    "print('True:', y_test.values[0:25])\n",
    "print('Pred:', y_pred_class[0:25])"
   ]
  },
  {
   "cell_type": "markdown",
   "metadata": {},
   "source": [
    "**Conclusion:**\n",
    "\n",
    "- Classification accuracy is the **easiest classification metric to understand**\n",
    "- But, it does not tell you the **underlying distribution** of response values\n",
    "- And, it does not tell you what **\"types\" of errors** your classifier is making"
   ]
  },
  {
   "cell_type": "markdown",
   "metadata": {},
   "source": [
    "### 3.3 Confusion matrix\n",
    "\n",
    "Table that describes the performance of a classification model"
   ]
  },
  {
   "cell_type": "code",
   "execution_count": 77,
   "metadata": {},
   "outputs": [
    {
     "name": "stdout",
     "output_type": "stream",
     "text": [
      "[[118  12]\n",
      " [ 47  15]]\n"
     ]
    }
   ],
   "source": [
    "# IMPORTANT: first argument is true values, second argument is predicted values\n",
    "print(metrics.confusion_matrix(y_test, y_pred_class))"
   ]
  },
  {
   "cell_type": "markdown",
   "metadata": {},
   "source": [
    "![Small confusion matrix](images/09_confusion_matrix_1.png)"
   ]
  },
  {
   "cell_type": "markdown",
   "metadata": {},
   "source": [
    "- Every observation in the testing set is represented in **exactly one box**\n",
    "- It's a 2x2 matrix because there are **2 response classes**\n",
    "- The format shown here is **not** universal"
   ]
  },
  {
   "cell_type": "markdown",
   "metadata": {},
   "source": [
    "**Basic terminology**\n",
    "\n",
    "- **True Positives (TP):** we *correctly* predicted that they *do* have diabetes\n",
    "- **True Negatives (TN):** we *correctly* predicted that they *don't* have diabetes\n",
    "- **False Positives (FP):** we *incorrectly* predicted that they *do* have diabetes (a \"Type I error\")\n",
    "- **False Negatives (FN):** we *incorrectly* predicted that they *don't* have diabetes (a \"Type II error\")"
   ]
  },
  {
   "cell_type": "code",
   "execution_count": 78,
   "metadata": {},
   "outputs": [
    {
     "name": "stdout",
     "output_type": "stream",
     "text": [
      "True: [1 0 0 1 0 0 1 1 0 0 1 1 0 0 0 0 1 0 0 0 1 1 0 0 0]\n",
      "Pred: [0 0 0 0 0 0 0 1 0 1 0 1 0 0 0 0 0 0 0 0 0 0 0 0 0]\n"
     ]
    }
   ],
   "source": [
    "# print the first 25 true and predicted responses\n",
    "print('True:', y_test.values[0:25])\n",
    "print('Pred:', y_pred_class[0:25])"
   ]
  },
  {
   "cell_type": "code",
   "execution_count": 80,
   "metadata": {},
   "outputs": [
    {
     "name": "stdout",
     "output_type": "stream",
     "text": [
      "15\n"
     ]
    }
   ],
   "source": [
    "# save confusion matrix and slice into four pieces\n",
    "confusion = metrics.confusion_matrix(y_test, y_pred_class)\n",
    "TP = confusion[1, 1]\n",
    "TN = confusion[0, 0]\n",
    "FP = confusion[0, 1]\n",
    "FN = confusion[1, 0]\n",
    "\n",
    "print(TP)"
   ]
  },
  {
   "cell_type": "markdown",
   "metadata": {},
   "source": [
    "![Large confusion matrix](images/09_confusion_matrix_2.png)"
   ]
  },
  {
   "cell_type": "markdown",
   "metadata": {},
   "source": [
    "### 3.4 Metrics computed from a confusion matrix"
   ]
  },
  {
   "cell_type": "markdown",
   "metadata": {},
   "source": [
    "**Classification Accuracy:** Overall, how often is the classifier correct?"
   ]
  },
  {
   "cell_type": "code",
   "execution_count": 81,
   "metadata": {},
   "outputs": [
    {
     "name": "stdout",
     "output_type": "stream",
     "text": [
      "0.692708333333\n",
      "0.692708333333\n"
     ]
    }
   ],
   "source": [
    "print((TP + TN) / float(TP + TN + FP + FN))\n",
    "print(metrics.accuracy_score(y_test, y_pred_class))"
   ]
  },
  {
   "cell_type": "markdown",
   "metadata": {},
   "source": [
    "**Classification Error:** Overall, how often is the classifier incorrect?\n",
    "\n",
    "- Also known as \"Misclassification Rate\""
   ]
  },
  {
   "cell_type": "code",
   "execution_count": 82,
   "metadata": {},
   "outputs": [
    {
     "name": "stdout",
     "output_type": "stream",
     "text": [
      "0.307291666667\n",
      "0.307291666667\n"
     ]
    }
   ],
   "source": [
    "print((FP + FN) / float(TP + TN + FP + FN))\n",
    "print(1 - metrics.accuracy_score(y_test, y_pred_class))"
   ]
  },
  {
   "cell_type": "markdown",
   "metadata": {},
   "source": [
    "**Sensitivity:** When the actual value is positive, how often is the prediction correct?\n",
    "\n",
    "- How \"sensitive\" is the classifier to detecting positive instances?\n",
    "- Also known as \"True Positive Rate\" or \"Recall\""
   ]
  },
  {
   "cell_type": "code",
   "execution_count": 83,
   "metadata": {},
   "outputs": [
    {
     "name": "stdout",
     "output_type": "stream",
     "text": [
      "0.241935483871\n",
      "0.241935483871\n"
     ]
    }
   ],
   "source": [
    "print(TP / float(TP + FN))\n",
    "print(metrics.recall_score(y_test, y_pred_class))"
   ]
  },
  {
   "cell_type": "markdown",
   "metadata": {},
   "source": [
    "**Specificity:** When the actual value is negative, how often is the prediction correct?\n",
    "\n",
    "- How \"specific\" (or \"selective\") is the classifier in predicting positive instances?"
   ]
  },
  {
   "cell_type": "code",
   "execution_count": 84,
   "metadata": {},
   "outputs": [
    {
     "name": "stdout",
     "output_type": "stream",
     "text": [
      "0.907692307692\n"
     ]
    }
   ],
   "source": [
    "print(TN / float(TN + FP))"
   ]
  },
  {
   "cell_type": "markdown",
   "metadata": {},
   "source": [
    "**False Positive Rate:** When the actual value is negative, how often is the prediction incorrect?"
   ]
  },
  {
   "cell_type": "code",
   "execution_count": 85,
   "metadata": {},
   "outputs": [
    {
     "name": "stdout",
     "output_type": "stream",
     "text": [
      "0.0923076923077\n"
     ]
    }
   ],
   "source": [
    "print(FP / float(TN + FP))"
   ]
  },
  {
   "cell_type": "markdown",
   "metadata": {},
   "source": [
    "**Precision:** When a positive value is predicted, how often is the prediction correct?\n",
    "\n",
    "- How \"precise\" is the classifier when predicting positive instances?"
   ]
  },
  {
   "cell_type": "code",
   "execution_count": 86,
   "metadata": {},
   "outputs": [
    {
     "name": "stdout",
     "output_type": "stream",
     "text": [
      "0.555555555556\n",
      "0.555555555556\n"
     ]
    }
   ],
   "source": [
    "print(TP / float(TP + FP))\n",
    "print(metrics.precision_score(y_test, y_pred_class))"
   ]
  },
  {
   "cell_type": "markdown",
   "metadata": {},
   "source": [
    "Many other metrics can be computed: F1 score, Matthews correlation coefficient, etc."
   ]
  },
  {
   "cell_type": "markdown",
   "metadata": {},
   "source": [
    "**Conclusion:**\n",
    "\n",
    "- Confusion matrix gives you a **more complete picture** of how your classifier is performing\n",
    "- Also allows you to compute various **classification metrics**, and these metrics can guide your model selection\n",
    "\n",
    "**Which metrics should you focus on?**\n",
    "\n",
    "- Choice of metric depends on your **business objective**\n",
    "- **Spam filter** (positive class is \"spam\"): Optimize for **precision or specificity** because false negatives (spam goes to the inbox) are more acceptable than false positives (non-spam is caught by the spam filter)\n",
    "- **Fraudulent transaction detector** (positive class is \"fraud\"): Optimize for **sensitivity** because false positives (normal transactions that are flagged as possible fraud) are more acceptable than false negatives (fraudulent transactions that are not detected)"
   ]
  }
 ],
 "metadata": {
  "kernelspec": {
   "display_name": "Python 3",
   "language": "python",
   "name": "python3"
  },
  "language_info": {
   "codemirror_mode": {
    "name": "ipython",
    "version": 3
   },
   "file_extension": ".py",
   "mimetype": "text/x-python",
   "name": "python",
   "nbconvert_exporter": "python",
   "pygments_lexer": "ipython3",
   "version": "3.6.1"
  }
 },
 "nbformat": 4,
 "nbformat_minor": 1
}
